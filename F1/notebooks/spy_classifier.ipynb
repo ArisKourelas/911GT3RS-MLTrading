{
  "cells": [
    {
      "cell_type": "code",
      "source": [
        "import pandas as pd\n",
        "import numpy as np"
      ],
      "outputs": [],
      "execution_count": 1,
      "metadata": {
        "gather": {
          "logged": 1746786778321
        }
      }
    },
    {
      "cell_type": "code",
      "source": [
        "!pip install pandas requests xgboost scikit-learn matplotlib --quiet\n",
        "!pip install seaborn --quiet"
      ],
      "outputs": [],
      "execution_count": 2,
      "metadata": {}
    },
    {
      "cell_type": "code",
      "source": [
        "import sys\n",
        "!{sys.executable} -m pip install xgboost --quiet"
      ],
      "outputs": [],
      "execution_count": 3,
      "metadata": {
        "gather": {
          "logged": 1746786818375
        }
      }
    },
    {
      "cell_type": "code",
      "source": [
        "import sys\n",
        "!{sys.executable} -m pip install seaborn --quiet"
      ],
      "outputs": [],
      "execution_count": 4,
      "metadata": {
        "gather": {
          "logged": 1746786824896
        }
      }
    },
    {
      "cell_type": "code",
      "source": [
        "import pandas as pd\n",
        "import requests\n",
        "\n",
        "def fetch_polygon_data_range_5min(symbol, start_date, end_date, api_key):\n",
        "    url = (\n",
        "        f\"https://api.polygon.io/v2/aggs/ticker/{symbol}/range/5/minute/\"\n",
        "        f\"{start_date}/{end_date}?adjusted=true&sort=asc&limit=50000&apiKey={api_key}\"\n",
        "    )\n",
        "    response = requests.get(url)\n",
        "    data = response.json()\n",
        "\n",
        "    if \"results\" in data:\n",
        "        df = pd.DataFrame(data[\"results\"])\n",
        "        df['t'] = pd.to_datetime(df['t'], unit='ms')\n",
        "        df.rename(columns={\n",
        "            't': 'timestamp', 'o': 'open', 'h': 'high',\n",
        "            'l': 'low', 'c': 'close', 'v': 'volume', 'n': 'trades'\n",
        "        }, inplace=True)\n",
        "        return df\n",
        "    else:\n",
        "        print(\"Error:\", data.get(\"error\", \"Unknown error\"))\n",
        "        return pd.DataFrame()"
      ],
      "outputs": [],
      "execution_count": 5,
      "metadata": {
        "gather": {
          "logged": 1746786827517
        }
      }
    },
    {
      "cell_type": "code",
      "source": [
        "from datetime import datetime, timedelta\n",
        "import time\n",
        "import pandas as pd\n",
        "\n",
        "symbol = \"SPY\"\n",
        "API_KEY = \"AXOcwAzJT1ijsBXWK_9svkDpMpviJ94q\"  # Make sure Block 1 is already run\n",
        "\n",
        "# Start from May 2020\n",
        "start_year = 2020\n",
        "start_month = 5\n",
        "\n",
        "# Today's date\n",
        "today = datetime.today()\n",
        "end_year = today.year\n",
        "end_month = today.month - 1  # Don't fetch current month (not complete)\n",
        "\n",
        "for year in range(start_year, end_year + 1):\n",
        "    for month in range(1, 13):\n",
        "        if year == start_year and month < start_month:\n",
        "            continue\n",
        "        if year == end_year and month > end_month:\n",
        "            break\n",
        "\n",
        "        start_date = f\"{year}-{month:02d}-01\"\n",
        "        end_date_dt = datetime.strptime(start_date, \"%Y-%m-%d\") + timedelta(days=32)\n",
        "        end_date = end_date_dt.replace(day=1).strftime(\"%Y-%m-%d\")\n",
        "\n",
        "        print(f\"Fetching {symbol} 5-min data: {start_date} to {end_date}...\")\n",
        "        df = fetch_polygon_data_range_5min(symbol, start_date, end_date, API_KEY)\n",
        "\n",
        "        if not df.empty:\n",
        "            filename = f\"{symbol}_5min_{year}_{month:02d}.csv\"\n",
        "            df.to_csv(filename, index=False)\n",
        "            print(f\"Saved to {filename} ({len(df)} rows)\\n\")\n",
        "        else:\n",
        "            print(f\"No data for {start_date} to {end_date}\")\n",
        "\n",
        "        time.sleep(2)  # Respect Polygon rate limit"
      ],
      "outputs": [
        {
          "output_type": "stream",
          "name": "stdout",
          "text": "Fetching SPY 5-min data: 2020-05-01 to 2020-06-01...\nSaved to SPY_5min_2020_05.csv (2876 rows)\n\nFetching SPY 5-min data: 2020-06-01 to 2020-07-01...\nSaved to SPY_5min_2020_06.csv (4407 rows)\n\nFetching SPY 5-min data: 2020-07-01 to 2020-08-01...\nSaved to SPY_5min_2020_07.csv (4191 rows)\n\nFetching SPY 5-min data: 2020-08-01 to 2020-09-01...\nSaved to SPY_5min_2020_08.csv (4146 rows)\n\nFetching SPY 5-min data: 2020-09-01 to 2020-10-01...\nSaved to SPY_5min_2020_09.csv (4204 rows)\n\nFetching SPY 5-min data: 2020-10-01 to 2020-11-01...\nSaved to SPY_5min_2020_10.csv (4196 rows)\n\nFetching SPY 5-min data: 2020-11-01 to 2020-12-01...\nSaved to SPY_5min_2020_11.csv (3940 rows)\n\nFetching SPY 5-min data: 2020-12-01 to 2021-01-01...\nSaved to SPY_5min_2020_12.csv (4050 rows)\n\nFetching SPY 5-min data: 2021-01-01 to 2021-02-01...\nSaved to SPY_5min_2021_01.csv (3813 rows)\n\nFetching SPY 5-min data: 2021-02-01 to 2021-03-01...\nSaved to SPY_5min_2021_02.csv (3812 rows)\n\nFetching SPY 5-min data: 2021-03-01 to 2021-04-01...\nSaved to SPY_5min_2021_03.csv (4566 rows)\n\nFetching SPY 5-min data: 2021-04-01 to 2021-05-01...\nSaved to SPY_5min_2021_04.csv (3936 rows)\n\nFetching SPY 5-min data: 2021-05-01 to 2021-06-01...\nSaved to SPY_5min_2021_05.csv (3966 rows)\n\nFetching SPY 5-min data: 2021-06-01 to 2021-07-01...\nSaved to SPY_5min_2021_06.csv (4261 rows)\n\nFetching SPY 5-min data: 2021-07-01 to 2021-08-01...\nSaved to SPY_5min_2021_07.csv (3926 rows)\n\nFetching SPY 5-min data: 2021-08-01 to 2021-09-01...\nSaved to SPY_5min_2021_08.csv (4229 rows)\n\nFetching SPY 5-min data: 2021-09-01 to 2021-10-01...\nSaved to SPY_5min_2021_09.csv (4157 rows)\n\nFetching SPY 5-min data: 2021-10-01 to 2021-11-01...\nSaved to SPY_5min_2021_10.csv (4176 rows)\n\nFetching SPY 5-min data: 2021-11-01 to 2021-12-01...\nSaved to SPY_5min_2021_11.csv (4086 rows)\n\nFetching SPY 5-min data: 2021-12-01 to 2022-01-01...\nSaved to SPY_5min_2021_12.csv (4190 rows)\n\nFetching SPY 5-min data: 2022-01-01 to 2022-02-01...\nSaved to SPY_5min_2022_01.csv (4015 rows)\n\nFetching SPY 5-min data: 2022-02-01 to 2022-03-01...\nSaved to SPY_5min_2022_02.csv (3813 rows)\n\nFetching SPY 5-min data: 2022-03-01 to 2022-04-01...\nSaved to SPY_5min_2022_03.csv (4584 rows)\n\nFetching SPY 5-min data: 2022-04-01 to 2022-05-01...\nSaved to SPY_5min_2022_04.csv (3805 rows)\n\nFetching SPY 5-min data: 2022-05-01 to 2022-06-01...\nSaved to SPY_5min_2022_05.csv (4207 rows)\n\nFetching SPY 5-min data: 2022-06-01 to 2022-07-01...\nSaved to SPY_5min_2022_06.csv (4206 rows)\n\nFetching SPY 5-min data: 2022-07-01 to 2022-08-01...\nSaved to SPY_5min_2022_07.csv (4002 rows)\n\nFetching SPY 5-min data: 2022-08-01 to 2022-09-01...\nSaved to SPY_5min_2022_08.csv (4567 rows)\n\nFetching SPY 5-min data: 2022-09-01 to 2022-10-01...\nSaved to SPY_5min_2022_09.csv (4016 rows)\n\nFetching SPY 5-min data: 2022-10-01 to 2022-11-01...\nSaved to SPY_5min_2022_10.csv (4219 rows)\n\nFetching SPY 5-min data: 2022-11-01 to 2022-12-01...\nSaved to SPY_5min_2022_11.csv (4138 rows)\n\nFetching SPY 5-min data: 2022-12-01 to 2023-01-01...\nSaved to SPY_5min_2022_12.csv (4005 rows)\n\nFetching SPY 5-min data: 2023-01-01 to 2023-02-01...\nSaved to SPY_5min_2023_01.csv (4015 rows)\n\nFetching SPY 5-min data: 2023-02-01 to 2023-03-01...\nSaved to SPY_5min_2023_02.csv (3806 rows)\n\nFetching SPY 5-min data: 2023-03-01 to 2023-04-01...\nSaved to SPY_5min_2023_03.csv (4397 rows)\n\nFetching SPY 5-min data: 2023-04-01 to 2023-05-01...\nSaved to SPY_5min_2023_04.csv (3795 rows)\n\nFetching SPY 5-min data: 2023-05-01 to 2023-06-01...\nSaved to SPY_5min_2023_05.csv (4356 rows)\n\nFetching SPY 5-min data: 2023-06-01 to 2023-07-01...\nSaved to SPY_5min_2023_06.csv (3968 rows)\n\nFetching SPY 5-min data: 2023-07-01 to 2023-08-01...\nSaved to SPY_5min_2023_07.csv (3892 rows)\n\nFetching SPY 5-min data: 2023-08-01 to 2023-09-01...\nSaved to SPY_5min_2023_08.csv (4546 rows)\n\nFetching SPY 5-min data: 2023-09-01 to 2023-10-01...\nSaved to SPY_5min_2023_09.csv (3757 rows)\n\nFetching SPY 5-min data: 2023-10-01 to 2023-11-01...\nSaved to SPY_5min_2023_10.csv (4382 rows)\n\nFetching SPY 5-min data: 2023-11-01 to 2023-12-01...\nSaved to SPY_5min_2023_11.csv (4033 rows)\n\nFetching SPY 5-min data: 2023-12-01 to 2024-01-01...\nSaved to SPY_5min_2023_12.csv (3695 rows)\n\nFetching SPY 5-min data: 2024-01-01 to 2024-02-01...\nSaved to SPY_5min_2024_01.csv (4139 rows)\n\nFetching SPY 5-min data: 2024-02-01 to 2024-03-01...\nSaved to SPY_5min_2024_02.csv (3957 rows)\n\nFetching SPY 5-min data: 2024-03-01 to 2024-04-01...\nSaved to SPY_5min_2024_03.csv (3929 rows)\n\nFetching SPY 5-min data: 2024-04-01 to 2024-05-01...\nSaved to SPY_5min_2024_04.csv (4335 rows)\n\nFetching SPY 5-min data: 2024-05-01 to 2024-06-01...\nSaved to SPY_5min_2024_05.csv (4067 rows)\n\nFetching SPY 5-min data: 2024-06-01 to 2024-07-01...\nSaved to SPY_5min_2024_06.csv (3713 rows)\n\nFetching SPY 5-min data: 2024-07-01 to 2024-08-01...\nSaved to SPY_5min_2024_07.csv (4231 rows)\n\nFetching SPY 5-min data: 2024-08-01 to 2024-09-01...\nSaved to SPY_5min_2024_08.csv (4134 rows)\n\nFetching SPY 5-min data: 2024-09-01 to 2024-10-01...\nSaved to SPY_5min_2024_09.csv (3952 rows)\n\nFetching SPY 5-min data: 2024-10-01 to 2024-11-01...\nSaved to SPY_5min_2024_10.csv (4515 rows)\n\nFetching SPY 5-min data: 2024-11-01 to 2024-12-01...\nSaved to SPY_5min_2024_11.csv (3715 rows)\n\nFetching SPY 5-min data: 2024-12-01 to 2025-01-01...\nSaved to SPY_5min_2024_12.csv (3832 rows)\n\nFetching SPY 5-min data: 2025-01-01 to 2025-02-01...\nSaved to SPY_5min_2025_01.csv (3777 rows)\n\nFetching SPY 5-min data: 2025-02-01 to 2025-03-01...\nSaved to SPY_5min_2025_02.csv (3551 rows)\n\nFetching SPY 5-min data: 2025-03-01 to 2025-04-01...\nSaved to SPY_5min_2025_03.csv (4202 rows)\n\nFetching SPY 5-min data: 2025-04-01 to 2025-05-01...\nSaved to SPY_5min_2025_04.csv (4211 rows)\n\n"
        }
      ],
      "execution_count": 6,
      "metadata": {
        "gather": {
          "logged": 1746787051409
        }
      }
    },
    {
      "cell_type": "code",
      "source": [
        "# Get all monthly files\n",
        "files = sorted([f for f in os.listdir() if f.startswith(\"SPY_5min_\") and f.endswith(\".csv\")])\n",
        "\n",
        "# Read and concatenate all DataFrames\n",
        "all_data = []\n",
        "for file in files:\n",
        "    df = pd.read_csv(file, parse_dates=[\"timestamp\"])\n",
        "    all_data.append(df)\n",
        "\n",
        "full_df = pd.concat(all_data).sort_values(\"timestamp\").reset_index(drop=True)\n",
        "\n",
        "# Save combined file\n",
        "full_df.to_csv(\"SPY_5min_full.csv\", index=False)\n",
        "\n",
        "# Preview the first few rows\n",
        "full_df.head()"
      ],
      "outputs": [
        {
          "output_type": "execute_result",
          "execution_count": 17,
          "data": {
            "text/plain": "   volume        vw    open   close    high     low           timestamp  \\\n0  4927.0  294.0346  293.83  293.96  294.34  293.83 2020-05-11 08:00:00   \n1  7420.0  293.9817  294.01  293.92  294.04  293.92 2020-05-11 08:05:00   \n2  3675.0  293.8851  293.95  293.60  293.98  293.59 2020-05-11 08:10:00   \n3  6945.0  293.5993  293.60  293.67  293.69  293.57 2020-05-11 08:15:00   \n4  4252.0  293.7026  293.68  293.55  293.76  293.55 2020-05-11 08:20:00   \n\n   trades  \n0      48  \n1      46  \n2      35  \n3      35  \n4      45  ",
            "text/html": "<div>\n<style scoped>\n    .dataframe tbody tr th:only-of-type {\n        vertical-align: middle;\n    }\n\n    .dataframe tbody tr th {\n        vertical-align: top;\n    }\n\n    .dataframe thead th {\n        text-align: right;\n    }\n</style>\n<table border=\"1\" class=\"dataframe\">\n  <thead>\n    <tr style=\"text-align: right;\">\n      <th></th>\n      <th>volume</th>\n      <th>vw</th>\n      <th>open</th>\n      <th>close</th>\n      <th>high</th>\n      <th>low</th>\n      <th>timestamp</th>\n      <th>trades</th>\n    </tr>\n  </thead>\n  <tbody>\n    <tr>\n      <th>0</th>\n      <td>4927.0</td>\n      <td>294.0346</td>\n      <td>293.83</td>\n      <td>293.96</td>\n      <td>294.34</td>\n      <td>293.83</td>\n      <td>2020-05-11 08:00:00</td>\n      <td>48</td>\n    </tr>\n    <tr>\n      <th>1</th>\n      <td>7420.0</td>\n      <td>293.9817</td>\n      <td>294.01</td>\n      <td>293.92</td>\n      <td>294.04</td>\n      <td>293.92</td>\n      <td>2020-05-11 08:05:00</td>\n      <td>46</td>\n    </tr>\n    <tr>\n      <th>2</th>\n      <td>3675.0</td>\n      <td>293.8851</td>\n      <td>293.95</td>\n      <td>293.60</td>\n      <td>293.98</td>\n      <td>293.59</td>\n      <td>2020-05-11 08:10:00</td>\n      <td>35</td>\n    </tr>\n    <tr>\n      <th>3</th>\n      <td>6945.0</td>\n      <td>293.5993</td>\n      <td>293.60</td>\n      <td>293.67</td>\n      <td>293.69</td>\n      <td>293.57</td>\n      <td>2020-05-11 08:15:00</td>\n      <td>35</td>\n    </tr>\n    <tr>\n      <th>4</th>\n      <td>4252.0</td>\n      <td>293.7026</td>\n      <td>293.68</td>\n      <td>293.55</td>\n      <td>293.76</td>\n      <td>293.55</td>\n      <td>2020-05-11 08:20:00</td>\n      <td>45</td>\n    </tr>\n  </tbody>\n</table>\n</div>"
          },
          "metadata": {}
        }
      ],
      "execution_count": 17,
      "metadata": {
        "gather": {
          "logged": 1746789519727
        }
      }
    },
    {
      "cell_type": "code",
      "source": [
        "from pandas.tseries.holiday import USFederalHolidayCalendar\n",
        "\n",
        "# Ensure timestamp is datetime\n",
        "full_df[\"timestamp\"] = pd.to_datetime(full_df[\"timestamp\"])\n",
        "\n",
        "# Date breakdown\n",
        "full_df[\"date\"] = full_df[\"timestamp\"].dt.date\n",
        "full_df[\"time\"] = full_df[\"timestamp\"].dt.time\n",
        "full_df[\"day_of_week\"] = full_df[\"timestamp\"].dt.dayofweek          # 0 = Monday\n",
        "full_df[\"is_monday\"] = (full_df[\"day_of_week\"] == 0).astype(int)\n",
        "full_df[\"is_friday\"] = (full_df[\"day_of_week\"] == 4).astype(int)\n",
        "\n",
        "# Month & quarter structure\n",
        "full_df[\"month\"] = full_df[\"timestamp\"].dt.month\n",
        "full_df[\"year\"] = full_df[\"timestamp\"].dt.year\n",
        "full_df[\"quarter\"] = full_df[\"timestamp\"].dt.quarter\n",
        "full_df[\"is_month_start\"] = full_df[\"timestamp\"].dt.is_month_start.astype(int)\n",
        "full_df[\"is_month_end\"] = full_df[\"timestamp\"].dt.is_month_end.astype(int)\n",
        "full_df[\"is_quarter_start\"] = full_df[\"timestamp\"].dt.is_quarter_start.astype(int)\n",
        "full_df[\"is_quarter_end\"] = full_df[\"timestamp\"].dt.is_quarter_end.astype(int)\n",
        "\n",
        "# Season (Winter=1, Spring=2, Summer=3, Fall=4)\n",
        "full_df[\"season\"] = ((full_df[\"month\"] % 12 + 3) // 3)\n",
        "\n",
        "# Time-specific\n",
        "full_df[\"hour\"] = full_df[\"timestamp\"].dt.hour\n",
        "full_df[\"minute\"] = full_df[\"timestamp\"].dt.minute\n",
        "\n",
        "# Is first trading day of month\n",
        "full_df[\"prev_date\"] = full_df[\"date\"].shift(1)\n",
        "full_df[\"is_first_trading_day\"] = (full_df[\"date\"] != full_df[\"prev_date\"]).astype(int)\n",
        "full_df.loc[full_df[\"timestamp\"].dt.day != 1, \"is_first_trading_day\"] = 0\n",
        "\n",
        "# U.S. holiday logic\n",
        "cal = USFederalHolidayCalendar()\n",
        "holidays = cal.holidays(start=full_df[\"timestamp\"].min(), end=full_df[\"timestamp\"].max())\n",
        "full_df[\"is_after_holiday\"] = full_df[\"timestamp\"].dt.normalize().isin(holidays + pd.Timedelta(days=1)).astype(int)\n",
        "\n",
        "# Drop helper column\n",
        "full_df.drop(columns=[\"prev_date\"], inplace=True)"
      ],
      "outputs": [],
      "execution_count": 18,
      "metadata": {
        "gather": {
          "logged": 1746789523071
        }
      }
    },
    {
      "cell_type": "code",
      "source": [
        "# Filter only 9:30 and 9:35 bars\n",
        "target_df = full_df[full_df[[\"hour\", \"minute\"]].apply(tuple, axis=1).isin([(9, 30), (9, 35)])].copy()\n",
        "\n",
        "# Drop exact duplicate timestamps (if any)\n",
        "target_df = target_df.drop_duplicates(subset=[\"date\", \"hour\", \"minute\"])\n",
        "\n",
        "# Pivot to get one row per day with close_930 and close_935\n",
        "pivoted = target_df.pivot(index=\"date\", columns=[\"hour\", \"minute\"], values=\"close\")\n",
        "pivoted.columns = [\"close_930\", \"close_935\"]\n",
        "pivoted.reset_index(inplace=True)\n",
        "\n",
        "# Extract calendar features from the 9:30 bar rows\n",
        "calendar_cols = [\n",
        "    \"date\", \"day_of_week\", \"is_monday\", \"is_friday\",\n",
        "    \"month\", \"year\", \"quarter\", \"is_month_start\", \"is_month_end\",\n",
        "    \"is_quarter_start\", \"is_quarter_end\", \"season\",\n",
        "    \"is_first_trading_day\", \"is_after_holiday\"\n",
        "]\n",
        "calendar_features = full_df[(full_df[\"hour\"] == 9) & (full_df[\"minute\"] == 30)][calendar_cols]\n",
        "\n",
        "# Merge price and calendar features\n",
        "model_df = pd.merge(pivoted, calendar_features, on=\"date\", how=\"inner\")\n",
        "\n",
        "# Create binary target: 1 if price increased from 9:30 to 9:35\n",
        "model_df[\"went_up\"] = (model_df[\"close_935\"] > model_df[\"close_930\"]).astype(int)"
      ],
      "outputs": [],
      "execution_count": 19,
      "metadata": {
        "gather": {
          "logged": 1746789526793
        }
      }
    },
    {
      "cell_type": "code",
      "source": [
        "# Block 11: Train/Test Split\n",
        "\n",
        "from sklearn.model_selection import train_test_split\n",
        "\n",
        "# Features (X) and target (y)\n",
        "X = model_df.drop(columns=[\"date\", \"close_930\", \"close_935\", \"went_up\"])\n",
        "y = model_df[\"went_up\"]\n",
        "\n",
        "# 80% train, 20% test\n",
        "X_train, X_test, y_train, y_test = train_test_split(\n",
        "    X, y, test_size=0.2, random_state=42, stratify=y\n",
        ")\n",
        "\n",
        "# Preview shapes\n",
        "print(f\"Train: {X_train.shape}, Test: {X_test.shape}\")"
      ],
      "outputs": [
        {
          "output_type": "stream",
          "name": "stdout",
          "text": "Train: (976, 13), Test: (245, 13)\n"
        }
      ],
      "execution_count": 20,
      "metadata": {
        "gather": {
          "logged": 1746789527753
        }
      }
    },
    {
      "cell_type": "code",
      "source": [
        "from xgboost import XGBClassifier\n",
        "from sklearn.metrics import accuracy_score\n",
        "\n",
        "# Block 12: Train XGBoost classifier\n",
        "model = XGBClassifier(use_label_encoder=False, eval_metric=\"logloss\", random_state=42)\n",
        "model.fit(X_train, y_train)\n",
        "\n",
        "# Predict on test set\n",
        "y_pred = model.predict(X_test)\n",
        "\n",
        "# Evaluate accuracy\n",
        "accuracy = accuracy_score(y_test, y_pred)\n",
        "print(f\"Test Accuracy: {accuracy:.4f}\")"
      ],
      "outputs": [
        {
          "output_type": "stream",
          "name": "stderr",
          "text": "/anaconda/envs/azureml_py38/lib/python3.10/site-packages/xgboost/data.py:262: FutureWarning: pandas.Int64Index is deprecated and will be removed from pandas in a future version. Use pandas.Index with the appropriate dtype instead.\n  elif isinstance(data.columns, (pd.Int64Index, pd.RangeIndex)):\n/anaconda/envs/azureml_py38/lib/python3.10/site-packages/xgboost/data.py:262: FutureWarning: pandas.Int64Index is deprecated and will be removed from pandas in a future version. Use pandas.Index with the appropriate dtype instead.\n  elif isinstance(data.columns, (pd.Int64Index, pd.RangeIndex)):\n"
        }
      ],
      "execution_count": 21,
      "metadata": {
        "gather": {
          "logged": 1746789542574
        }
      }
    },
    {
      "cell_type": "code",
      "source": [
        "from sklearn.metrics import accuracy_score\n",
        "\n",
        "# Predict again (just in case)\n",
        "y_pred = model.predict(X_test)\n",
        "\n",
        "# Evaluate accuracy\n",
        "accuracy = accuracy_score(y_test, y_pred)\n",
        "print(f\"Test Accuracy: {accuracy:.4f}\")"
      ],
      "outputs": [
        {
          "output_type": "stream",
          "name": "stderr",
          "text": "/anaconda/envs/azureml_py38/lib/python3.10/site-packages/xgboost/data.py:262: FutureWarning: pandas.Int64Index is deprecated and will be removed from pandas in a future version. Use pandas.Index with the appropriate dtype instead.\n  elif isinstance(data.columns, (pd.Int64Index, pd.RangeIndex)):\n"
        }
      ],
      "execution_count": 22,
      "metadata": {
        "gather": {
          "logged": 1746789581238
        }
      }
    },
    {
      "cell_type": "code",
      "source": [
        "import matplotlib.pyplot as plt\n",
        "import numpy as np\n",
        "\n",
        "# Block 13: Plot feature importance\n",
        "importances = model.feature_importances_\n",
        "feature_names = X_train.columns\n",
        "\n",
        "# Plot\n",
        "plt.figure(figsize=(10, 6))\n",
        "plt.barh(feature_names, importances)\n",
        "plt.xlabel(\"Importance\")\n",
        "plt.title(\"XGBoost Feature Importance\")\n",
        "plt.grid(True)\n",
        "plt.tight_layout()\n",
        "plt.show()"
      ],
      "outputs": [
        {
          "output_type": "display_data",
          "data": {
            "text/plain": "<Figure size 1000x600 with 1 Axes>",
            "image/png": "[encoded data removed]"
          },
          "metadata": {}
        }
      ],
      "execution_count": 23,
      "metadata": {
        "gather": {
          "logged": 1746789584684
        }
      }
    },
    {
      "cell_type": "code",
      "source": [
        "# Block 13.1: Print feature importance scores\n",
        "importances = model.feature_importances_\n",
        "feature_names = X_train.columns\n",
        "\n",
        "# Pair and sort by importance\n",
        "importance_list = sorted(zip(feature_names, importances), key=lambda x: x[1], reverse=True)\n",
        "\n",
        "# Print nicely\n",
        "for name, score in importance_list:\n",
        "    print(f\"{name:25} {score:.4f}\")"
      ],
      "outputs": [
        {
          "output_type": "stream",
          "name": "stdout",
          "text": "season                    0.1920\nis_month_start            0.1505\nmonth                     0.1300\nyear                      0.1182\nday_of_week               0.1181\nis_quarter_end            0.0918\nis_month_end              0.0898\nis_after_holiday          0.0580\nis_quarter_start          0.0516\nis_monday                 0.0000\nis_friday                 0.0000\nquarter                   0.0000\nis_first_trading_day      0.0000\n"
        }
      ],
      "execution_count": 24,
      "metadata": {
        "gather": {
          "logged": 1746789589437
        }
      }
    },
    {
      "cell_type": "code",
      "source": [
        "print(\"Features used by the model:\")\n",
        "print(X.columns.tolist())"
      ],
      "outputs": [
        {
          "output_type": "stream",
          "name": "stdout",
          "text": "Features used by the model:\n['day_of_week', 'is_monday', 'is_friday', 'month', 'year', 'quarter', 'is_month_start', 'is_month_end', 'is_quarter_start', 'is_quarter_end', 'season', 'is_first_trading_day', 'is_after_holiday']\n"
        }
      ],
      "execution_count": 25,
      "metadata": {
        "gather": {
          "logged": 1746789593406
        }
      }
    },
    {
      "cell_type": "code",
      "source": [
        "# Rebuild model_df and model_df_clean\n",
        "\n",
        "# Create target\n",
        "model_df = pd.merge(pivoted, calendar_features, on=\"date\", how=\"inner\")\n",
        "model_df[\"went_up\"] = (model_df[\"close_935\"] > model_df[\"close_930\"]).astype(int)\n",
        "\n",
        "# Drop any NaNs and make a clean copy\n",
        "model_df_clean = model_df.dropna().copy()"
      ],
      "outputs": [],
      "execution_count": 26,
      "metadata": {
        "gather": {
          "logged": 1746789595394
        }
      }
    },
    {
      "cell_type": "code",
      "source": [
        "calendar_cols_only = [\n",
        "    'day_of_week', 'is_monday', 'is_friday', 'month', 'year',\n",
        "    'quarter', 'is_month_start', 'is_month_end', 'is_quarter_start',\n",
        "    'is_quarter_end', 'season', 'is_first_trading_day', 'is_after_holiday'\n",
        "]\n",
        "\n",
        "X = model_df_clean[calendar_cols_only]\n",
        "y = model_df_clean[\"went_up\"]\n",
        "\n",
        "from sklearn.model_selection import train_test_split\n",
        "from sklearn.metrics import accuracy_score\n",
        "from xgboost import XGBClassifier\n",
        "\n",
        "X_train, X_test, y_train, y_test = train_test_split(\n",
        "    X, y, test_size=0.2, random_state=42, stratify=y\n",
        ")\n",
        "\n",
        "model = XGBClassifier(eval_metric=\"logloss\", random_state=42)\n",
        "model.fit(X_train, y_train)\n",
        "\n",
        "y_pred = model.predict(X_test)\n",
        "accuracy = accuracy_score(y_test, y_pred)\n",
        "print(f\"Calendar-Only Accuracy: {accuracy:.4f}\")"
      ],
      "outputs": [
        {
          "output_type": "stream",
          "name": "stderr",
          "text": "/anaconda/envs/azureml_py38/lib/python3.10/site-packages/xgboost/sklearn.py:1224: UserWarning: The use of label encoder in XGBClassifier is deprecated and will be removed in a future release. To remove this warning, do the following: 1) Pass option use_label_encoder=False when constructing XGBClassifier object; and 2) Encode your labels (y) as integers starting with 0, i.e. 0, 1, 2, ..., [num_class - 1].\n  warnings.warn(label_encoder_deprecation_msg, UserWarning)\n/anaconda/envs/azureml_py38/lib/python3.10/site-packages/xgboost/data.py:262: FutureWarning: pandas.Int64Index is deprecated and will be removed from pandas in a future version. Use pandas.Index with the appropriate dtype instead.\n  elif isinstance(data.columns, (pd.Int64Index, pd.RangeIndex)):\n/anaconda/envs/azureml_py38/lib/python3.10/site-packages/xgboost/data.py:262: FutureWarning: pandas.Int64Index is deprecated and will be removed from pandas in a future version. Use pandas.Index with the appropriate dtype instead.\n  elif isinstance(data.columns, (pd.Int64Index, pd.RangeIndex)):\n"
        }
      ],
      "execution_count": 27,
      "metadata": {
        "gather": {
          "logged": 1746789598360
        }
      }
    },
    {
      "cell_type": "code",
      "source": [
        "# Block 16: Add prev_day_return safely (confirmed working)\n",
        "\n",
        "# Step 1: Get 16:00 bars from full_df\n",
        "df_1600 = full_df[(full_df[\"hour\"] == 16) & (full_df[\"minute\"] == 0)].copy()\n",
        "df_1600[\"prev_day\"] = df_1600[\"timestamp\"].dt.normalize() + pd.Timedelta(days=1)\n",
        "df_1600 = df_1600.rename(columns={\"open\": \"prev_day_open\", \"close\": \"prev_day_close\"})\n",
        "df_1600 = df_1600[[\"prev_day\", \"prev_day_open\", \"prev_day_close\"]]\n",
        "\n",
        "# Step 2: Prepare model_df_clean with matching datetime format\n",
        "model_df_clean = model_df_clean.copy()\n",
        "model_df_clean[\"date\"] = pd.to_datetime(model_df_clean[\"date\"]).dt.normalize()\n",
        "\n",
        "# Step 3: MERGE on date (this is the actual merge step)\n",
        "model_df_fixed = pd.merge(\n",
        "    model_df_clean,\n",
        "    df_1600,\n",
        "    left_on=\"date\",\n",
        "    right_on=\"prev_day\",\n",
        "    how=\"left\"\n",
        ")\n",
        "\n",
        "# Step 4: Use correct column names directly (no renaming)\n",
        "# You likely have _x and _y suffixes after the merge\n",
        "print(\"Columns after merge:\", model_df_fixed.columns.tolist())\n",
        "\n",
        "# Step 5: Calculate return using the actual column names (adjust if needed)\n",
        "model_df_fixed[\"prev_day_return\"] = (\n",
        "    (model_df_fixed[\"prev_day_close\"] - model_df_fixed[\"prev_day_open\"]) / model_df_fixed[\"prev_day_open\"]\n",
        ")\n",
        "\n",
        "# Step 6: Drop rows with missing values\n",
        "model_df_fixed = model_df_fixed.dropna(subset=[\"prev_day_return\"])"
      ],
      "outputs": [
        {
          "output_type": "stream",
          "name": "stdout",
          "text": "Columns after merge: ['date', 'close_930', 'close_935', 'day_of_week', 'is_monday', 'is_friday', 'month', 'year', 'quarter', 'is_month_start', 'is_month_end', 'is_quarter_start', 'is_quarter_end', 'season', 'is_first_trading_day', 'is_after_holiday', 'went_up', 'prev_day', 'prev_day_open', 'prev_day_close']\n"
        }
      ],
      "execution_count": 28,
      "metadata": {
        "gather": {
          "logged": 1746789604739
        }
      }
    },
    {
      "cell_type": "code",
      "source": [
        "feature_cols = calendar_cols_only + [\"prev_day_return\"]\n",
        "X = model_df_fixed[feature_cols]\n",
        "y = model_df_fixed[\"went_up\"]\n",
        "\n",
        "X_train, X_test, y_train, y_test = train_test_split(\n",
        "    X, y, test_size=0.2, random_state=42, stratify=y\n",
        ")\n",
        "\n",
        "model = XGBClassifier(eval_metric=\"logloss\", random_state=42)\n",
        "model.fit(X_train, y_train)\n",
        "\n",
        "y_pred = model.predict(X_test)\n",
        "accuracy = accuracy_score(y_test, y_pred)\n",
        "print(f\"Accuracy with prev_day_return: {accuracy:.4f}\")"
      ],
      "outputs": [
        {
          "output_type": "stream",
          "name": "stderr",
          "text": "/anaconda/envs/azureml_py38/lib/python3.10/site-packages/xgboost/sklearn.py:1224: UserWarning: The use of label encoder in XGBClassifier is deprecated and will be removed in a future release. To remove this warning, do the following: 1) Pass option use_label_encoder=False when constructing XGBClassifier object; and 2) Encode your labels (y) as integers starting with 0, i.e. 0, 1, 2, ..., [num_class - 1].\n  warnings.warn(label_encoder_deprecation_msg, UserWarning)\n/anaconda/envs/azureml_py38/lib/python3.10/site-packages/xgboost/data.py:262: FutureWarning: pandas.Int64Index is deprecated and will be removed from pandas in a future version. Use pandas.Index with the appropriate dtype instead.\n  elif isinstance(data.columns, (pd.Int64Index, pd.RangeIndex)):\n/anaconda/envs/azureml_py38/lib/python3.10/site-packages/xgboost/data.py:262: FutureWarning: pandas.Int64Index is deprecated and will be removed from pandas in a future version. Use pandas.Index with the appropriate dtype instead.\n  elif isinstance(data.columns, (pd.Int64Index, pd.RangeIndex)):\n"
        }
      ],
      "execution_count": 29,
      "metadata": {
        "gather": {
          "logged": 1746789609076
        }
      }
    },
    {
      "cell_type": "code",
      "source": [
        "from sklearn.metrics import confusion_matrix\n",
        "import seaborn as sns\n",
        "import matplotlib.pyplot as plt\n",
        "\n",
        "cm = confusion_matrix(y_test, y_pred)\n",
        "sns.heatmap(cm, annot=True, fmt=\"d\", cmap=\"Blues\")\n",
        "plt.xlabel(\"Predicted\")\n",
        "plt.ylabel(\"Actual\")\n",
        "plt.title(\"Confusion Matrix\")\n",
        "plt.show()"
      ],
      "outputs": [
        {
          "output_type": "display_data",
          "data": {
            "text/plain": "<Figure size 640x480 with 2 Axes>",
            "image/png": "[encoded data removed]"
          },
          "metadata": {}
        }
      ],
      "execution_count": 30,
      "metadata": {
        "gather": {
          "logged": 1746789612250
        }
      }
    },
    {
      "cell_type": "code",
      "source": [
        "from sklearn.metrics import confusion_matrix\n",
        "\n",
        "# Print the confusion matrix as raw numbers\n",
        "cm = confusion_matrix(y_test, y_pred)\n",
        "print(\"Confusion Matrix:\")\n",
        "print(cm)"
      ],
      "outputs": [
        {
          "output_type": "stream",
          "name": "stdout",
          "text": "Confusion Matrix:\n[[5939    0]\n [   0 5901]]\n"
        }
      ],
      "execution_count": 21,
      "metadata": {
        "gather": {
          "logged": 1746786433132
        }
      }
    },
    {
      "cell_type": "code",
      "source": [
        "import pandas as pd\n",
        "from xgboost import XGBClassifier\n",
        "from sklearn.metrics import accuracy_score\n",
        "\n",
        "# Set cutoff date for out-of-sample testing\n",
        "cutoff_date = pd.to_datetime(\"2024-11-01\")\n",
        "\n",
        "# Use model_df_fixed which includes prev_day_return\n",
        "train_df = model_df_fixed[model_df_fixed[\"date\"] < cutoff_date]\n",
        "test_df  = model_df_fixed[model_df_fixed[\"date\"] >= cutoff_date]\n",
        "\n",
        "# Features to use\n",
        "features = calendar_cols_only + [\"prev_day_return\"]\n",
        "X_train = train_df[features]\n",
        "y_train = train_df[\"went_up\"]\n",
        "X_test  = test_df[features]\n",
        "y_test  = test_df[\"went_up\"]\n",
        "\n",
        "# Train new model\n",
        "model = XGBClassifier(eval_metric=\"logloss\", random_state=42)\n",
        "model.fit(X_train, y_train)\n",
        "\n",
        "# Predict + evaluate\n",
        "y_pred = model.predict(X_test)\n",
        "accuracy = accuracy_score(y_test, y_pred)\n",
        "print(f\"Out-of-Sample Accuracy (Nov 2024–May 2025): {accuracy:.4f}\")"
      ],
      "outputs": [
        {
          "output_type": "stream",
          "name": "stderr",
          "text": "/anaconda/envs/azureml_py38/lib/python3.10/site-packages/xgboost/sklearn.py:1224: UserWarning: The use of label encoder in XGBClassifier is deprecated and will be removed in a future release. To remove this warning, do the following: 1) Pass option use_label_encoder=False when constructing XGBClassifier object; and 2) Encode your labels (y) as integers starting with 0, i.e. 0, 1, 2, ..., [num_class - 1].\n  warnings.warn(label_encoder_deprecation_msg, UserWarning)\n/anaconda/envs/azureml_py38/lib/python3.10/site-packages/xgboost/data.py:262: FutureWarning: pandas.Int64Index is deprecated and will be removed from pandas in a future version. Use pandas.Index with the appropriate dtype instead.\n  elif isinstance(data.columns, (pd.Int64Index, pd.RangeIndex)):\n/anaconda/envs/azureml_py38/lib/python3.10/site-packages/xgboost/data.py:262: FutureWarning: pandas.Int64Index is deprecated and will be removed from pandas in a future version. Use pandas.Index with the appropriate dtype instead.\n  elif isinstance(data.columns, (pd.Int64Index, pd.RangeIndex)):\n"
        }
      ],
      "execution_count": 22,
      "metadata": {
        "gather": {
          "logged": 1746786435037
        }
      }
    },
    {
      "cell_type": "code",
      "source": [
        "# Block 19: Advanced non-leaking price features\n",
        "\n",
        "# Step 1: Get previous day OHLC bars (from 16:00 timestamp)\n",
        "df_prev_day = full_df[(full_df[\"hour\"] == 16) & (full_df[\"minute\"] == 0)].copy()\n",
        "df_prev_day[\"date_for_merge\"] = df_prev_day[\"timestamp\"].dt.normalize() + pd.Timedelta(days=1)\n",
        "\n",
        "# Step 2: Get high/low/open/close for each previous day\n",
        "grouped = full_df.copy()\n",
        "grouped[\"date\"] = grouped[\"timestamp\"].dt.date\n",
        "day_summary = grouped.groupby(\"date\").agg({\n",
        "    \"open\": \"first\",\n",
        "    \"high\": \"max\",\n",
        "    \"low\": \"min\",\n",
        "    \"close\": \"last\"\n",
        "}).reset_index()\n",
        "day_summary[\"merge_key\"] = pd.to_datetime(day_summary[\"date\"]) + pd.Timedelta(days=1)\n",
        "\n",
        "# Step 3: Merge all into model_df_clean\n",
        "model_df_ext = model_df_clean.copy()\n",
        "model_df_ext[\"merge_key\"] = pd.to_datetime(model_df_ext[\"date\"]).dt.normalize()\n",
        "\n",
        "# Merge previous day close and open\n",
        "model_df_ext = pd.merge(model_df_ext, df_prev_day[[\"date_for_merge\", \"open\", \"close\"]], left_on=\"merge_key\", right_on=\"date_for_merge\", how=\"left\")\n",
        "model_df_ext = model_df_ext.rename(columns={\"open\": \"prev_day_open\", \"close\": \"prev_day_close\"})\n",
        "\n",
        "# Merge volatility info\n",
        "model_df_ext = pd.merge(model_df_ext, day_summary[[\"merge_key\", \"high\", \"low\", \"open\"]], on=\"merge_key\", how=\"left\")\n",
        "model_df_ext = model_df_ext.rename(columns={\"open\": \"prev_day_first_open\"})\n",
        "\n",
        "# Step 4: Create features\n",
        "model_df_ext[\"prev_day_change\"] = (model_df_ext[\"prev_day_close\"] - model_df_ext[\"prev_day_open\"]) / model_df_ext[\"prev_day_open\"]\n",
        "model_df_ext[\"overnight_gap\"] = (model_df_ext[\"close_930\"] - model_df_ext[\"prev_day_close\"]) / model_df_ext[\"prev_day_close\"]\n",
        "model_df_ext[\"prior_volatility\"] = model_df_ext[\"high\"] - model_df_ext[\"low\"]\n",
        "model_df_ext[\"prev_day_range_pct\"] = (model_df_ext[\"high\"] - model_df_ext[\"low\"]) / model_df_ext[\"prev_day_first_open\"]\n",
        "\n",
        "# Step 5: Clean\n",
        "model_df_ext = model_df_ext.dropna()"
      ],
      "outputs": [],
      "execution_count": 23,
      "metadata": {
        "gather": {
          "logged": 1746786435782
        }
      }
    },
    {
      "cell_type": "code",
      "source": [
        "from sklearn.metrics import accuracy_score\n",
        "\n",
        "# Block 20: Out-of-sample test using advanced price features\n",
        "\n",
        "# Set cutoff date for real-world backtest\n",
        "cutoff_date = pd.to_datetime(\"2024-11-01\")\n",
        "\n",
        "# Feature set: calendar + new price features\n",
        "features = calendar_cols_only + [\n",
        "    \"prev_day_change\", \"overnight_gap\", \"prior_volatility\", \"prev_day_range_pct\"\n",
        "]\n",
        "\n",
        "# Time-based split\n",
        "train_df = model_df_ext[model_df_ext[\"date\"] < cutoff_date]\n",
        "test_df  = model_df_ext[model_df_ext[\"date\"] >= cutoff_date]\n",
        "\n",
        "X_train = train_df[features]\n",
        "y_train = train_df[\"went_up\"]\n",
        "X_test  = test_df[features]\n",
        "y_test  = test_df[\"went_up\"]\n",
        "\n",
        "# Train model\n",
        "model = XGBClassifier(eval_metric=\"logloss\", random_state=42)\n",
        "model.fit(X_train, y_train)\n",
        "\n",
        "# Predict + evaluate\n",
        "y_pred = model.predict(X_test)\n",
        "accuracy = accuracy_score(y_test, y_pred)\n",
        "print(f\"Out-of-Sample Accuracy (with advanced features): {accuracy:.4f}\")"
      ],
      "outputs": [
        {
          "output_type": "stream",
          "name": "stderr",
          "text": "/anaconda/envs/azureml_py38/lib/python3.10/site-packages/xgboost/sklearn.py:1224: UserWarning: The use of label encoder in XGBClassifier is deprecated and will be removed in a future release. To remove this warning, do the following: 1) Pass option use_label_encoder=False when constructing XGBClassifier object; and 2) Encode your labels (y) as integers starting with 0, i.e. 0, 1, 2, ..., [num_class - 1].\n  warnings.warn(label_encoder_deprecation_msg, UserWarning)\n/anaconda/envs/azureml_py38/lib/python3.10/site-packages/xgboost/data.py:262: FutureWarning: pandas.Int64Index is deprecated and will be removed from pandas in a future version. Use pandas.Index with the appropriate dtype instead.\n  elif isinstance(data.columns, (pd.Int64Index, pd.RangeIndex)):\n/anaconda/envs/azureml_py38/lib/python3.10/site-packages/xgboost/data.py:262: FutureWarning: pandas.Int64Index is deprecated and will be removed from pandas in a future version. Use pandas.Index with the appropriate dtype instead.\n  elif isinstance(data.columns, (pd.Int64Index, pd.RangeIndex)):\n"
        }
      ],
      "execution_count": 24,
      "metadata": {
        "gather": {
          "logged": 1746786438257
        }
      }
    },
    {
      "cell_type": "code",
      "source": [
        "from sklearn.metrics import accuracy_score\n",
        "\n",
        "# Block 21: Probabilistic forecast with confidence threshold\n",
        "\n",
        "# Predict probabilities on test set\n",
        "probs = model.predict_proba(X_test)\n",
        "\n",
        "# Class 1 (went_up) probabilities\n",
        "confidences = probs[:, 1]\n",
        "\n",
        "# Set confidence threshold\n",
        "threshold = 0.60\n",
        "\n",
        "# Filter predictions where model is confident enough\n",
        "confident_indices = (confidences >= threshold) | (confidences <= (1 - threshold))\n",
        "confident_preds = (confidences[confident_indices] >= threshold).astype(int)\n",
        "confident_truths = y_test.iloc[confident_indices]\n",
        "\n",
        "# Evaluate accuracy on confident predictions\n",
        "confident_accuracy = accuracy_score(confident_truths, confident_preds)\n",
        "\n",
        "# Summary\n",
        "print(f\"Confidence threshold: {threshold}\")\n",
        "print(f\"Number of confident predictions: {len(confident_preds)} / {len(y_test)}\")\n",
        "print(f\"Accuracy on confident predictions: {confident_accuracy:.4f}\")"
      ],
      "outputs": [
        {
          "output_type": "stream",
          "name": "stderr",
          "text": "/anaconda/envs/azureml_py38/lib/python3.10/site-packages/xgboost/data.py:262: FutureWarning: pandas.Int64Index is deprecated and will be removed from pandas in a future version. Use pandas.Index with the appropriate dtype instead.\n  elif isinstance(data.columns, (pd.Int64Index, pd.RangeIndex)):\n"
        }
      ],
      "execution_count": 25,
      "metadata": {
        "gather": {
          "logged": 1746786438395
        }
      }
    },
    {
      "cell_type": "code",
      "source": [
        "# Block 22: Daily Simulation Loop\n",
        "\n",
        "# Set up\n",
        "cutoff_date = pd.to_datetime(\"2024-11-01\")\n",
        "threshold = 0.60\n",
        "\n",
        "# Create results list\n",
        "simulation_results = []\n",
        "\n",
        "# Loop through each row in out-of-sample test set\n",
        "for i, row in model_df_ext[model_df_ext[\"date\"] >= cutoff_date].iterrows():\n",
        "    features = row[calendar_cols_only + [\n",
        "        \"prev_day_change\", \"overnight_gap\", \"prior_volatility\", \"prev_day_range_pct\"\n",
        "    ]].values.reshape(1, -1)\n",
        "\n",
        "    # Predict probability\n",
        "    prob = model.predict_proba(features)[0][1]  # Probability SPY will go up\n",
        "\n",
        "    # Decide action\n",
        "    if prob >= threshold:\n",
        "        prediction = 1\n",
        "        acted = True\n",
        "    elif prob <= (1 - threshold):\n",
        "        prediction = 0\n",
        "        acted = True\n",
        "    else:\n",
        "        prediction = -1  # model skipped\n",
        "        acted = False\n",
        "\n",
        "    # Store result\n",
        "    simulation_results.append({\n",
        "        \"date\": row[\"date\"],\n",
        "        \"prob_up\": prob,\n",
        "        \"prediction\": prediction,\n",
        "        \"actual\": row[\"went_up\"],\n",
        "        \"acted\": acted,\n",
        "        \"correct\": (prediction == row[\"went_up\"]) if acted else None\n",
        "    })\n",
        "\n",
        "# Turn into DataFrame\n",
        "simulation_df = pd.DataFrame(simulation_results)\n",
        "\n",
        "# Print simulation summary\n",
        "num_acted = simulation_df[\"acted\"].sum()\n",
        "accuracy = simulation_df[simulation_df[\"acted\"] == True][\"correct\"].mean()\n",
        "\n",
        "print(f\"Confidence threshold: {threshold}\")\n",
        "print(f\"Decisions made: {num_acted} / {len(simulation_df)} days\")\n",
        "print(f\"Accuracy on decisions: {accuracy:.4f}\")"
      ],
      "outputs": [
        {
          "output_type": "stream",
          "name": "stdout",
          "text": "Confidence threshold: 0.6\nDecisions made: 4864 / 5696 days\nAccuracy on decisions: 0.4605\n"
        }
      ],
      "execution_count": 26,
      "metadata": {
        "gather": {
          "logged": 1746786453775
        }
      }
    },
    {
      "cell_type": "code",
      "source": [
        "# Block 23: High-confidence simulation (threshold ≥ 0.70)\n",
        "\n",
        "threshold = 0.70  # NEW threshold for strong signals\n",
        "\n",
        "# Re-run the loop using new threshold\n",
        "high_conf_results = []\n",
        "\n",
        "for i, row in model_df_ext[model_df_ext[\"date\"] >= cutoff_date].iterrows():\n",
        "    features = row[calendar_cols_only + [\n",
        "        \"prev_day_change\", \"overnight_gap\", \"prior_volatility\", \"prev_day_range_pct\"\n",
        "    ]].values.reshape(1, -1)\n",
        "\n",
        "    # Predict probability\n",
        "    prob = model.predict_proba(features)[0][1]\n",
        "\n",
        "    # Decide action\n",
        "    if prob >= threshold:\n",
        "        prediction = 1\n",
        "        acted = True\n",
        "    elif prob <= (1 - threshold):\n",
        "        prediction = 0\n",
        "        acted = True\n",
        "    else:\n",
        "        prediction = -1\n",
        "        acted = False\n",
        "\n",
        "    # Store result\n",
        "    high_conf_results.append({\n",
        "        \"date\": row[\"date\"],\n",
        "        \"prob_up\": prob,\n",
        "        \"prediction\": prediction,\n",
        "        \"actual\": row[\"went_up\"],\n",
        "        \"acted\": acted,\n",
        "        \"correct\": (prediction == row[\"went_up\"]) if acted else None\n",
        "    })\n",
        "\n",
        "# Convert to DataFrame\n",
        "high_conf_df = pd.DataFrame(high_conf_results)\n",
        "\n",
        "# Report\n",
        "num_acted = high_conf_df[\"acted\"].sum()\n",
        "accuracy = high_conf_df[high_conf_df[\"acted\"] == True][\"correct\"].mean()\n",
        "\n",
        "print(f\"High-confidence threshold: {threshold}\")\n",
        "print(f\"Decisions made: {num_acted} / {len(high_conf_df)} days\")\n",
        "print(f\"Accuracy on confident predictions: {accuracy:.4f}\")"
      ],
      "outputs": [
        {
          "output_type": "stream",
          "name": "stdout",
          "text": "High-confidence threshold: 0.7\nDecisions made: 3840 / 5696 days\nAccuracy on confident predictions: 0.4167\n"
        }
      ],
      "execution_count": 27,
      "metadata": {
        "gather": {
          "logged": 1746786469293
        }
      }
    },
    {
      "cell_type": "code",
      "source": [
        "import numpy as np\n",
        "\n",
        "# Block 24: Add technical indicators (RSI and SMA)\n",
        "df_tech = full_df.copy()\n",
        "df_tech[\"date\"] = df_tech[\"timestamp\"].dt.date\n",
        "\n",
        "# Step 1: Group daily close for RSI/SMA\n",
        "daily_closes = df_tech.groupby(\"date\")[\"close\"].last().reset_index()\n",
        "daily_closes[\"date\"] = pd.to_datetime(daily_closes[\"date\"])\n",
        "daily_closes = daily_closes.sort_values(\"date\").reset_index(drop=True)\n",
        "\n",
        "# Step 2: Calculate SMA features\n",
        "daily_closes[\"sma_5\"] = daily_closes[\"close\"].rolling(window=5).mean()\n",
        "daily_closes[\"sma_20\"] = daily_closes[\"close\"].rolling(window=20).mean()\n",
        "daily_closes[\"sma_ratio\"] = daily_closes[\"sma_5\"] / daily_closes[\"sma_20\"]\n",
        "daily_closes[\"sma_distance\"] = (daily_closes[\"close\"] - daily_closes[\"sma_20\"]) / daily_closes[\"sma_20\"]\n",
        "\n",
        "# Step 3: Calculate RSI (14-period)\n",
        "delta = daily_closes[\"close\"].diff()\n",
        "gain = np.where(delta > 0, delta, 0)\n",
        "loss = np.where(delta < 0, -delta, 0)\n",
        "avg_gain = pd.Series(gain).rolling(window=14).mean()\n",
        "avg_loss = pd.Series(loss).rolling(window=14).mean()\n",
        "rs = avg_gain / avg_loss\n",
        "daily_closes[\"rsi_14\"] = 100 - (100 / (1 + rs))\n",
        "\n",
        "# Step 4: Merge into model_df_ext\n",
        "model_df_ext[\"date\"] = pd.to_datetime(model_df_ext[\"date\"])\n",
        "model_df_ext = pd.merge(model_df_ext, daily_closes[[\"date\", \"sma_5\", \"sma_20\", \"sma_ratio\", \"sma_distance\", \"rsi_14\"]], on=\"date\", how=\"left\")\n",
        "\n",
        "# Step 5: Drop any rows with missing values\n",
        "model_df_ext = model_df_ext.dropna(subset=[\"sma_5\", \"sma_20\", \"rsi_14\"])"
      ],
      "outputs": [],
      "execution_count": 28,
      "metadata": {
        "gather": {
          "logged": 1746786469939
        }
      }
    },
    {
      "cell_type": "code",
      "source": [
        "# Block 25: Retrain with technical indicators\n",
        "\n",
        "# Feature list\n",
        "tech_features = [\n",
        "    \"prev_day_change\", \"overnight_gap\", \"prior_volatility\", \"prev_day_range_pct\",\n",
        "    \"sma_ratio\", \"sma_distance\", \"rsi_14\"\n",
        "]\n",
        "all_features = calendar_cols_only + tech_features\n",
        "\n",
        "# Split again\n",
        "cutoff_date = pd.to_datetime(\"2024-11-01\")\n",
        "train_df = model_df_ext[model_df_ext[\"date\"] < cutoff_date]\n",
        "test_df  = model_df_ext[model_df_ext[\"date\"] >= cutoff_date]\n",
        "\n",
        "X_train = train_df[all_features]\n",
        "y_train = train_df[\"went_up\"]\n",
        "X_test  = test_df[all_features]\n",
        "y_test  = test_df[\"went_up\"]\n",
        "\n",
        "# Retrain model\n",
        "model = XGBClassifier(eval_metric=\"logloss\", random_state=42)\n",
        "model.fit(X_train, y_train)\n",
        "\n",
        "# Predict probabilities\n",
        "probs = model.predict_proba(X_test)[:, 1]\n",
        "threshold = 0.70\n",
        "\n",
        "# Filter by confidence\n",
        "confident_indices = (probs >= threshold) | (probs <= (1 - threshold))\n",
        "confident_preds = (probs[confident_indices] >= threshold).astype(int)\n",
        "confident_truths = y_test.iloc[confident_indices]\n",
        "\n",
        "# Results\n",
        "confident_accuracy = accuracy_score(confident_truths, confident_preds)\n",
        "print(f\"Confidence threshold: {threshold}\")\n",
        "print(f\"Decisions made: {len(confident_preds)} / {len(y_test)}\")\n",
        "print(f\"Accuracy on confident predictions: {confident_accuracy:.4f}\")"
      ],
      "outputs": [
        {
          "output_type": "stream",
          "name": "stderr",
          "text": "/anaconda/envs/azureml_py38/lib/python3.10/site-packages/xgboost/sklearn.py:1224: UserWarning: The use of label encoder in XGBClassifier is deprecated and will be removed in a future release. To remove this warning, do the following: 1) Pass option use_label_encoder=False when constructing XGBClassifier object; and 2) Encode your labels (y) as integers starting with 0, i.e. 0, 1, 2, ..., [num_class - 1].\n  warnings.warn(label_encoder_deprecation_msg, UserWarning)\n/anaconda/envs/azureml_py38/lib/python3.10/site-packages/xgboost/data.py:262: FutureWarning: pandas.Int64Index is deprecated and will be removed from pandas in a future version. Use pandas.Index with the appropriate dtype instead.\n  elif isinstance(data.columns, (pd.Int64Index, pd.RangeIndex)):\n/anaconda/envs/azureml_py38/lib/python3.10/site-packages/xgboost/data.py:262: FutureWarning: pandas.Int64Index is deprecated and will be removed from pandas in a future version. Use pandas.Index with the appropriate dtype instead.\n  elif isinstance(data.columns, (pd.Int64Index, pd.RangeIndex)):\n"
        }
      ],
      "execution_count": 29,
      "metadata": {
        "gather": {
          "logged": 1746786472505
        }
      }
    },
    {
      "cell_type": "code",
      "source": [
        "import matplotlib.pyplot as plt\n",
        "\n",
        "# Block 26: Simulate trading P&L from high-confidence predictions\n",
        "\n",
        "# Filter confident predictions (already done)\n",
        "simulation_df = test_df.copy()\n",
        "probs = model.predict_proba(X_test)[:, 1]\n",
        "simulation_df[\"prob_up\"] = probs\n",
        "simulation_df[\"acted\"] = (probs >= 0.70) | (probs <= 0.30)\n",
        "simulation_df[\"prediction\"] = np.where(probs >= 0.70, 1, np.where(probs <= 0.30, 0, -1))\n",
        "simulation_df[\"correct\"] = simulation_df[\"prediction\"] == simulation_df[\"went_up\"]\n",
        "simulation_df[\"pnl\"] = np.where(simulation_df[\"acted\"], np.where(simulation_df[\"correct\"], 1, -1), 0)\n",
        "simulation_df[\"cum_pnl\"] = simulation_df[\"pnl\"].cumsum()\n",
        "\n",
        "# Plot cumulative return\n",
        "plt.figure(figsize=(12, 6))\n",
        "plt.plot(simulation_df[\"date\"], simulation_df[\"cum_pnl\"], label=\"Cumulative Return\", color=\"green\")\n",
        "plt.axhline(0, color=\"gray\", linestyle=\"--\")\n",
        "plt.title(\"Simulated Cumulative Return (Confidence ≥ 70%)\")\n",
        "plt.xlabel(\"Date\")\n",
        "plt.ylabel(\"Cumulative Units\")\n",
        "plt.legend()\n",
        "plt.grid(True)\n",
        "plt.tight_layout()\n",
        "plt.show()\n",
        "\n",
        "# Summary\n",
        "total_return = simulation_df[\"cum_pnl\"].iloc[-1]\n",
        "num_trades = simulation_df[\"acted\"].sum()\n",
        "win_rate = simulation_df[simulation_df[\"acted\"]][\"correct\"].mean()\n",
        "\n",
        "print(f\"Trades made: {num_trades}\")\n",
        "print(f\"Final cumulative return: {total_return}\")\n",
        "print(f\"Win rate on trades: {win_rate:.4f}\")"
      ],
      "outputs": [
        {
          "output_type": "error",
          "ename": "NameError",
          "evalue": "name 'test_df' is not defined",
          "traceback": [
            "\u001b[0;31m---------------------------------------------------------------------------\u001b[0m",
            "\u001b[0;31mNameError\u001b[0m                                 Traceback (most recent call last)",
            "Cell \u001b[0;32mIn[16], line 6\u001b[0m\n\u001b[1;32m      1\u001b[0m \u001b[38;5;28;01mimport\u001b[39;00m\u001b[38;5;250m \u001b[39m\u001b[38;5;21;01mmatplotlib\u001b[39;00m\u001b[38;5;21;01m.\u001b[39;00m\u001b[38;5;21;01mpyplot\u001b[39;00m\u001b[38;5;250m \u001b[39m\u001b[38;5;28;01mas\u001b[39;00m\u001b[38;5;250m \u001b[39m\u001b[38;5;21;01mplt\u001b[39;00m\n\u001b[1;32m      3\u001b[0m \u001b[38;5;66;03m# Block 26: Simulate trading P&L from high-confidence predictions\u001b[39;00m\n\u001b[1;32m      4\u001b[0m \n\u001b[1;32m      5\u001b[0m \u001b[38;5;66;03m# Filter confident predictions (already done)\u001b[39;00m\n\u001b[0;32m----> 6\u001b[0m simulation_df \u001b[38;5;241m=\u001b[39m \u001b[43mtest_df\u001b[49m\u001b[38;5;241m.\u001b[39mcopy()\n\u001b[1;32m      7\u001b[0m probs \u001b[38;5;241m=\u001b[39m model\u001b[38;5;241m.\u001b[39mpredict_proba(X_test)[:, \u001b[38;5;241m1\u001b[39m]\n\u001b[1;32m      8\u001b[0m simulation_df[\u001b[38;5;124m\"\u001b[39m\u001b[38;5;124mprob_up\u001b[39m\u001b[38;5;124m\"\u001b[39m] \u001b[38;5;241m=\u001b[39m probs\n",
            "\u001b[0;31mNameError\u001b[0m: name 'test_df' is not defined"
          ]
        }
      ],
      "execution_count": 16,
      "metadata": {
        "gather": {
          "logged": 1746789451511
        }
      }
    },
    {
      "cell_type": "code",
      "source": [
        "refined_features = [\n",
        "    'is_quarter_start', 'is_month_start', 'is_quarter_end',\n",
        "    'overnight_gap', 'sma_ratio', 'prev_day_change', 'rsi_14',\n",
        "    'is_month_end', 'sma_distance', 'prior_volatility',\n",
        "    'is_after_holiday', 'year', 'prev_day_range_pct',\n",
        "    'month', 'day_of_week', 'season'\n",
        "]"
      ],
      "outputs": [],
      "execution_count": 31,
      "metadata": {
        "gather": {
          "logged": 1746786473056
        }
      }
    },
    {
      "cell_type": "code",
      "source": [
        "from xgboost import plot_importance\n",
        "import matplotlib.pyplot as plt\n",
        "\n",
        "# Plot top 15 most important features\n",
        "plt.figure(figsize=(10, 6))\n",
        "plot_importance(model, max_num_features=15, importance_type='gain')\n",
        "plt.title(\"XGBoost Feature Importance (Gain)\")\n",
        "plt.tight_layout()\n",
        "plt.show()"
      ],
      "outputs": [
        {
          "output_type": "display_data",
          "data": {
            "text/plain": "<Figure size 1000x600 with 0 Axes>"
          },
          "metadata": {}
        }
      ],
      "execution_count": 32,
      "metadata": {
        "gather": {
          "logged": 1746786473261
        }
      }
    },
    {
      "cell_type": "code",
      "source": [
        "# Print raw feature importances as a dictionary\n",
        "import pandas as pd\n",
        "\n",
        "importance_dict = model.get_booster().get_score(importance_type='gain')\n",
        "importance_df = pd.DataFrame(\n",
        "    sorted(importance_dict.items(), key=lambda x: x[1], reverse=True),\n",
        "    columns=[\"Feature\", \"Importance\"]\n",
        ")\n",
        "\n",
        "print(importance_df)"
      ],
      "outputs": [
        {
          "output_type": "stream",
          "name": "stdout",
          "text": "               Feature  Importance\n0     is_quarter_start  214.710999\n1       is_month_start  112.259285\n2         is_month_end   68.704346\n3               rsi_14   57.569550\n4     prior_volatility   55.775291\n5      prev_day_change   55.645721\n6            sma_ratio   54.399879\n7        overnight_gap   53.886189\n8         sma_distance   53.482319\n9     is_after_holiday   47.805531\n10  prev_day_range_pct   43.077312\n11              season   41.373501\n12               month   38.590553\n13                year   33.895363\n14         day_of_week   31.702517\n"
        }
      ],
      "execution_count": 33,
      "metadata": {
        "gather": {
          "logged": 1746786473378
        }
      }
    },
    {
      "cell_type": "code",
      "source": [
        "from xgboost import XGBClassifier\n",
        "from sklearn.metrics import accuracy_score\n",
        "import pandas as pd\n",
        "\n",
        "cutoff_date = pd.to_datetime(\"2024-11-01\")\n",
        "train_df = model_df_ext[model_df_ext[\"date\"] < cutoff_date]\n",
        "test_df  = model_df_ext[model_df_ext[\"date\"] >= cutoff_date]\n",
        "\n",
        "X_train = train_df[refined_features]\n",
        "y_train = train_df[\"went_up\"]\n",
        "X_test  = test_df[refined_features]\n",
        "y_test  = test_df[\"went_up\"]\n",
        "\n",
        "model = XGBClassifier(eval_metric=\"logloss\", random_state=42)\n",
        "model.fit(X_train, y_train)\n",
        "\n",
        "probs = model.predict_proba(X_test)[:, 1]\n",
        "threshold = 0.70\n",
        "\n",
        "confident_indices = (probs >= threshold) | (probs <= (1 - threshold))\n",
        "confident_preds = (probs[confident_indices] >= threshold).astype(int)\n",
        "confident_truths = y_test.iloc[confident_indices]\n",
        "\n",
        "from sklearn.metrics import accuracy_score\n",
        "confident_accuracy = accuracy_score(confident_truths, confident_preds)\n",
        "\n",
        "print(f\"Confidence threshold: {threshold}\")\n",
        "print(f\"Decisions made: {len(confident_preds)} / {len(y_test)}\")\n",
        "print(f\"Accuracy on confident predictions: {confident_accuracy:.4f}\")"
      ],
      "outputs": [
        {
          "output_type": "stream",
          "name": "stderr",
          "text": "/anaconda/envs/azureml_py38/lib/python3.10/site-packages/xgboost/sklearn.py:1224: UserWarning: The use of label encoder in XGBClassifier is deprecated and will be removed in a future release. To remove this warning, do the following: 1) Pass option use_label_encoder=False when constructing XGBClassifier object; and 2) Encode your labels (y) as integers starting with 0, i.e. 0, 1, 2, ..., [num_class - 1].\n  warnings.warn(label_encoder_deprecation_msg, UserWarning)\n/anaconda/envs/azureml_py38/lib/python3.10/site-packages/xgboost/data.py:262: FutureWarning: pandas.Int64Index is deprecated and will be removed from pandas in a future version. Use pandas.Index with the appropriate dtype instead.\n  elif isinstance(data.columns, (pd.Int64Index, pd.RangeIndex)):\n/anaconda/envs/azureml_py38/lib/python3.10/site-packages/xgboost/data.py:262: FutureWarning: pandas.Int64Index is deprecated and will be removed from pandas in a future version. Use pandas.Index with the appropriate dtype instead.\n  elif isinstance(data.columns, (pd.Int64Index, pd.RangeIndex)):\n"
        }
      ],
      "execution_count": 34,
      "metadata": {
        "gather": {
          "logged": 1746786475141
        }
      }
    },
    {
      "cell_type": "code",
      "source": [
        "# Show a few confident predictions and their probabilities\n",
        "import pandas as pd\n",
        "\n",
        "results_df = pd.DataFrame({\n",
        "    \"date\": test_df.iloc[confident_indices].index,\n",
        "    \"actual\": confident_truths.values,\n",
        "    \"predicted\": confident_preds,\n",
        "    \"probability\": probs[confident_indices]\n",
        "})\n",
        "\n",
        "print(results_df.head(10))  # Show first 10 confident predictions"
      ],
      "outputs": [
        {
          "output_type": "stream",
          "name": "stdout",
          "text": "    date  actual  predicted  probability\n0  53504       1          1     0.987698\n1  53505       1          1     0.987698\n2  53506       1          1     0.987698\n3  53507       1          1     0.987698\n4  53508       1          1     0.987698\n5  53509       1          1     0.987698\n6  53510       1          1     0.987698\n7  53511       1          1     0.987698\n8  53512       1          1     0.987698\n9  53513       1          1     0.987698\n"
        }
      ],
      "execution_count": 35,
      "metadata": {
        "gather": {
          "logged": 1746786475271
        }
      }
    },
    {
      "cell_type": "code",
      "source": [
        "from xgboost import XGBClassifier\n",
        "from sklearn.metrics import accuracy_score\n",
        "import numpy as np\n",
        "import pandas as pd\n",
        "\n",
        "# Final known-good feature set\n",
        "refined_features = [\n",
        "    'is_quarter_start', 'is_month_start', 'is_quarter_end',\n",
        "    'overnight_gap', 'sma_ratio', 'prev_day_change', 'rsi_14',\n",
        "    'is_month_end', 'sma_distance', 'prior_volatility',\n",
        "    'is_after_holiday', 'year', 'prev_day_range_pct',\n",
        "    'month', 'day_of_week', 'season'\n",
        "]\n",
        "\n",
        "# Train/test split (use model_df_ext)\n",
        "cutoff_date = pd.to_datetime(\"2024-11-01\")\n",
        "train_df = model_df_ext[model_df_ext[\"date\"] < cutoff_date]\n",
        "test_df  = model_df_ext[model_df_ext[\"date\"] >= cutoff_date]\n",
        "\n",
        "X_train = train_df[refined_features]\n",
        "y_train = train_df[\"went_up\"]\n",
        "X_test  = test_df[refined_features]\n",
        "y_test  = test_df[\"went_up\"]\n",
        "\n",
        "# Train model\n",
        "model = XGBClassifier(eval_metric=\"logloss\", random_state=42)\n",
        "model.fit(X_train, y_train)\n",
        "\n",
        "# Predict probabilities\n",
        "probs = model.predict_proba(X_test)[:, 1]\n",
        "threshold = 0.70\n",
        "\n",
        "# Simulate confident predictions\n",
        "simulation_df = test_df.copy()\n",
        "simulation_df[\"prob_up\"] = probs\n",
        "simulation_df[\"acted\"] = (probs >= threshold) | (probs <= (1 - threshold))\n",
        "simulation_df[\"prediction\"] = np.where(probs >= threshold, 1,\n",
        "                                       np.where(probs <= (1 - threshold), 0, -1))\n",
        "simulation_df[\"correct\"] = simulation_df[\"prediction\"] == simulation_df[\"went_up\"]\n",
        "simulation_df[\"pnl\"] = np.where(simulation_df[\"acted\"],\n",
        "                                np.where(simulation_df[\"correct\"], 1, -1), 0)\n",
        "simulation_df[\"cum_pnl\"] = simulation_df[\"pnl\"].cumsum()\n",
        "\n",
        "# Plot results\n",
        "import matplotlib.pyplot as plt\n",
        "plt.figure(figsize=(12, 6))\n",
        "plt.plot(simulation_df[\"date\"], simulation_df[\"cum_pnl\"], label=\"Cumulative Return\", color=\"green\")\n",
        "plt.axhline(0, color=\"gray\", linestyle=\"--\")\n",
        "plt.title(\"Simulated Cumulative Return (Confidence ≥ 70%)\")\n",
        "plt.xlabel(\"Date\")\n",
        "plt.ylabel(\"Cumulative Units\")\n",
        "plt.legend()\n",
        "plt.grid(True)\n",
        "plt.tight_layout()\n",
        "plt.show()\n",
        "\n",
        "# Summary\n",
        "total_return = simulation_df[\"cum_pnl\"].iloc[-1]\n",
        "num_trades = simulation_df[\"acted\"].sum()\n",
        "win_rate = simulation_df[simulation_df[\"acted\"]][\"correct\"].mean()\n",
        "\n",
        "print(f\"Trades made: {num_trades}\")\n",
        "print(f\"Final cumulative return: {total_return}\")\n",
        "print(f\"Win rate on trades: {win_rate:.4f}\")"
      ],
      "outputs": [
        {
          "output_type": "stream",
          "name": "stderr",
          "text": "/anaconda/envs/azureml_py38/lib/python3.10/site-packages/xgboost/sklearn.py:1224: UserWarning: The use of label encoder in XGBClassifier is deprecated and will be removed in a future release. To remove this warning, do the following: 1) Pass option use_label_encoder=False when constructing XGBClassifier object; and 2) Encode your labels (y) as integers starting with 0, i.e. 0, 1, 2, ..., [num_class - 1].\n  warnings.warn(label_encoder_deprecation_msg, UserWarning)\n/anaconda/envs/azureml_py38/lib/python3.10/site-packages/xgboost/data.py:262: FutureWarning: pandas.Int64Index is deprecated and will be removed from pandas in a future version. Use pandas.Index with the appropriate dtype instead.\n  elif isinstance(data.columns, (pd.Int64Index, pd.RangeIndex)):\n/anaconda/envs/azureml_py38/lib/python3.10/site-packages/xgboost/data.py:262: FutureWarning: pandas.Int64Index is deprecated and will be removed from pandas in a future version. Use pandas.Index with the appropriate dtype instead.\n  elif isinstance(data.columns, (pd.Int64Index, pd.RangeIndex)):\n"
        },
        {
          "output_type": "display_data",
          "data": {
            "text/plain": "<Figure size 1200x600 with 1 Axes>",
            "image/png": "[encoded data removed]"
          },
          "metadata": {}
        },
        {
          "output_type": "stream",
          "name": "stdout",
          "text": "Trades made: 4224\nFinal cumulative return: 256\nWin rate on trades: 0.5303\n"
        }
      ],
      "execution_count": 38,
      "metadata": {
        "gather": {
          "logged": 1746786525440
        }
      }
    },
    {
      "cell_type": "code",
      "source": [
        "# Block 31: Sweep confidence thresholds (70%, 75%, 80%)\n",
        "\n",
        "from sklearn.metrics import accuracy_score\n",
        "\n",
        "# Predict probabilities\n",
        "probs = model.predict_proba(X_test)[:, 1]\n",
        "thresholds = [0.70, 0.75, 0.80]\n",
        "\n",
        "# Evaluate each threshold\n",
        "for threshold in thresholds:\n",
        "    confident_indices = (probs >= threshold) | (probs <= (1 - threshold))\n",
        "    confident_preds = (probs[confident_indices] >= threshold).astype(int)\n",
        "    confident_truths = y_test.iloc[confident_indices]\n",
        "    confident_accuracy = accuracy_score(confident_truths, confident_preds)\n",
        "\n",
        "    print(f\"\\nThreshold: {threshold:.2f}\")\n",
        "    print(f\"Decisions made: {len(confident_preds)} / {len(y_test)}\")\n",
        "    print(f\"Accuracy on confident predictions: {confident_accuracy:.4f}\")"
      ],
      "outputs": [
        {
          "output_type": "stream",
          "name": "stderr",
          "text": "/anaconda/envs/azureml_py38/lib/python3.10/site-packages/xgboost/data.py:262: FutureWarning: pandas.Int64Index is deprecated and will be removed from pandas in a future version. Use pandas.Index with the appropriate dtype instead.\n  elif isinstance(data.columns, (pd.Int64Index, pd.RangeIndex)):\n"
        }
      ],
      "execution_count": 36,
      "metadata": {
        "gather": {
          "logged": 1746786475465
        }
      }
    },
    {
      "cell_type": "code",
      "source": [
        "# Block 32: Trade only on high volume + high confidence days\n",
        "\n",
        "threshold = 0.70  # keep best-performing threshold\n",
        "\n",
        "# Predict probabilities\n",
        "probs = model.predict_proba(X_test)[:, 1]\n",
        "\n",
        "# Filter by confidence\n",
        "conf_mask = (probs >= threshold) | (probs <= (1 - threshold))\n",
        "volume_mask = test_df[\"volume_5day_ratio\"] > 1.00  # trade only if volume above 5-day avg\n",
        "\n",
        "# Combine masks\n",
        "final_mask = conf_mask & volume_mask\n",
        "\n",
        "# Predictions + truth (FIXED)\n",
        "confident_preds = (probs[final_mask] >= threshold).astype(int)\n",
        "confident_truths = y_test.loc[final_mask]\n",
        "\n",
        "# Evaluate\n",
        "from sklearn.metrics import accuracy_score\n",
        "\n",
        "confident_accuracy = accuracy_score(confident_truths, confident_preds)\n",
        "print(f\"Filtered by: confidence ≥ {threshold} AND volume_5day_ratio > 1\")\n",
        "print(f\"Decisions made: {len(confident_preds)} / {len(y_test)}\")\n",
        "print(f\"Accuracy on confident predictions: {confident_accuracy:.4f}\")"
      ],
      "outputs": [
        {
          "output_type": "stream",
          "name": "stderr",
          "text": "/anaconda/envs/azureml_py38/lib/python3.10/site-packages/xgboost/data.py:262: FutureWarning: pandas.Int64Index is deprecated and will be removed from pandas in a future version. Use pandas.Index with the appropriate dtype instead.\n  elif isinstance(data.columns, (pd.Int64Index, pd.RangeIndex)):\n"
        },
        {
          "output_type": "error",
          "ename": "KeyError",
          "evalue": "'volume_5day_ratio'",
          "traceback": [
            "\u001b[0;31m---------------------------------------------------------------------------\u001b[0m",
            "\u001b[0;31mKeyError\u001b[0m                                  Traceback (most recent call last)",
            "File \u001b[0;32m/anaconda/envs/azureml_py38/lib/python3.10/site-packages/pandas/core/indexes/base.py:3802\u001b[0m, in \u001b[0;36mIndex.get_loc\u001b[0;34m(self, key, method, tolerance)\u001b[0m\n\u001b[1;32m   3801\u001b[0m \u001b[38;5;28;01mtry\u001b[39;00m:\n\u001b[0;32m-> 3802\u001b[0m     \u001b[38;5;28;01mreturn\u001b[39;00m \u001b[38;5;28;43mself\u001b[39;49m\u001b[38;5;241;43m.\u001b[39;49m\u001b[43m_engine\u001b[49m\u001b[38;5;241;43m.\u001b[39;49m\u001b[43mget_loc\u001b[49m\u001b[43m(\u001b[49m\u001b[43mcasted_key\u001b[49m\u001b[43m)\u001b[49m\n\u001b[1;32m   3803\u001b[0m \u001b[38;5;28;01mexcept\u001b[39;00m \u001b[38;5;167;01mKeyError\u001b[39;00m \u001b[38;5;28;01mas\u001b[39;00m err:\n",
            "File \u001b[0;32m/anaconda/envs/azureml_py38/lib/python3.10/site-packages/pandas/_libs/index.pyx:138\u001b[0m, in \u001b[0;36mpandas._libs.index.IndexEngine.get_loc\u001b[0;34m()\u001b[0m\n",
            "File \u001b[0;32m/anaconda/envs/azureml_py38/lib/python3.10/site-packages/pandas/_libs/index.pyx:165\u001b[0m, in \u001b[0;36mpandas._libs.index.IndexEngine.get_loc\u001b[0;34m()\u001b[0m\n",
            "File \u001b[0;32mpandas/_libs/hashtable_class_helper.pxi:5745\u001b[0m, in \u001b[0;36mpandas._libs.hashtable.PyObjectHashTable.get_item\u001b[0;34m()\u001b[0m\n",
            "File \u001b[0;32mpandas/_libs/hashtable_class_helper.pxi:5753\u001b[0m, in \u001b[0;36mpandas._libs.hashtable.PyObjectHashTable.get_item\u001b[0;34m()\u001b[0m\n",
            "\u001b[0;31mKeyError\u001b[0m: 'volume_5day_ratio'",
            "\nThe above exception was the direct cause of the following exception:\n",
            "\u001b[0;31mKeyError\u001b[0m                                  Traceback (most recent call last)",
            "Cell \u001b[0;32mIn[37], line 10\u001b[0m\n\u001b[1;32m      8\u001b[0m \u001b[38;5;66;03m# Filter by confidence\u001b[39;00m\n\u001b[1;32m      9\u001b[0m conf_mask \u001b[38;5;241m=\u001b[39m (probs \u001b[38;5;241m>\u001b[39m\u001b[38;5;241m=\u001b[39m threshold) \u001b[38;5;241m|\u001b[39m (probs \u001b[38;5;241m<\u001b[39m\u001b[38;5;241m=\u001b[39m (\u001b[38;5;241m1\u001b[39m \u001b[38;5;241m-\u001b[39m threshold))\n\u001b[0;32m---> 10\u001b[0m volume_mask \u001b[38;5;241m=\u001b[39m \u001b[43mtest_df\u001b[49m\u001b[43m[\u001b[49m\u001b[38;5;124;43m\"\u001b[39;49m\u001b[38;5;124;43mvolume_5day_ratio\u001b[39;49m\u001b[38;5;124;43m\"\u001b[39;49m\u001b[43m]\u001b[49m \u001b[38;5;241m>\u001b[39m \u001b[38;5;241m1.00\u001b[39m  \u001b[38;5;66;03m# trade only if volume above 5-day avg\u001b[39;00m\n\u001b[1;32m     12\u001b[0m \u001b[38;5;66;03m# Combine masks\u001b[39;00m\n\u001b[1;32m     13\u001b[0m final_mask \u001b[38;5;241m=\u001b[39m conf_mask \u001b[38;5;241m&\u001b[39m volume_mask\n",
            "File \u001b[0;32m/anaconda/envs/azureml_py38/lib/python3.10/site-packages/pandas/core/frame.py:3807\u001b[0m, in \u001b[0;36mDataFrame.__getitem__\u001b[0;34m(self, key)\u001b[0m\n\u001b[1;32m   3805\u001b[0m \u001b[38;5;28;01mif\u001b[39;00m \u001b[38;5;28mself\u001b[39m\u001b[38;5;241m.\u001b[39mcolumns\u001b[38;5;241m.\u001b[39mnlevels \u001b[38;5;241m>\u001b[39m \u001b[38;5;241m1\u001b[39m:\n\u001b[1;32m   3806\u001b[0m     \u001b[38;5;28;01mreturn\u001b[39;00m \u001b[38;5;28mself\u001b[39m\u001b[38;5;241m.\u001b[39m_getitem_multilevel(key)\n\u001b[0;32m-> 3807\u001b[0m indexer \u001b[38;5;241m=\u001b[39m \u001b[38;5;28;43mself\u001b[39;49m\u001b[38;5;241;43m.\u001b[39;49m\u001b[43mcolumns\u001b[49m\u001b[38;5;241;43m.\u001b[39;49m\u001b[43mget_loc\u001b[49m\u001b[43m(\u001b[49m\u001b[43mkey\u001b[49m\u001b[43m)\u001b[49m\n\u001b[1;32m   3808\u001b[0m \u001b[38;5;28;01mif\u001b[39;00m is_integer(indexer):\n\u001b[1;32m   3809\u001b[0m     indexer \u001b[38;5;241m=\u001b[39m [indexer]\n",
            "File \u001b[0;32m/anaconda/envs/azureml_py38/lib/python3.10/site-packages/pandas/core/indexes/base.py:3804\u001b[0m, in \u001b[0;36mIndex.get_loc\u001b[0;34m(self, key, method, tolerance)\u001b[0m\n\u001b[1;32m   3802\u001b[0m     \u001b[38;5;28;01mreturn\u001b[39;00m \u001b[38;5;28mself\u001b[39m\u001b[38;5;241m.\u001b[39m_engine\u001b[38;5;241m.\u001b[39mget_loc(casted_key)\n\u001b[1;32m   3803\u001b[0m \u001b[38;5;28;01mexcept\u001b[39;00m \u001b[38;5;167;01mKeyError\u001b[39;00m \u001b[38;5;28;01mas\u001b[39;00m err:\n\u001b[0;32m-> 3804\u001b[0m     \u001b[38;5;28;01mraise\u001b[39;00m \u001b[38;5;167;01mKeyError\u001b[39;00m(key) \u001b[38;5;28;01mfrom\u001b[39;00m\u001b[38;5;250m \u001b[39m\u001b[38;5;21;01merr\u001b[39;00m\n\u001b[1;32m   3805\u001b[0m \u001b[38;5;28;01mexcept\u001b[39;00m \u001b[38;5;167;01mTypeError\u001b[39;00m:\n\u001b[1;32m   3806\u001b[0m     \u001b[38;5;66;03m# If we have a listlike key, _check_indexing_error will raise\u001b[39;00m\n\u001b[1;32m   3807\u001b[0m     \u001b[38;5;66;03m#  InvalidIndexError. Otherwise we fall through and re-raise\u001b[39;00m\n\u001b[1;32m   3808\u001b[0m     \u001b[38;5;66;03m#  the TypeError.\u001b[39;00m\n\u001b[1;32m   3809\u001b[0m     \u001b[38;5;28mself\u001b[39m\u001b[38;5;241m.\u001b[39m_check_indexing_error(key)\n",
            "\u001b[0;31mKeyError\u001b[0m: 'volume_5day_ratio'"
          ]
        }
      ],
      "execution_count": 37,
      "metadata": {
        "gather": {
          "logged": 1746786476185
        }
      }
    },
    {
      "cell_type": "code",
      "source": [
        "import matplotlib.pyplot as plt\n",
        "\n",
        "# Block 33: Simulated return for filtered model\n",
        "\n",
        "# Create DataFrame for analysis\n",
        "filtered_df = test_df.copy()\n",
        "filtered_df[\"prob_up\"] = probs\n",
        "filtered_df[\"acted\"] = ((probs >= 0.70) | (probs <= 0.30)) & (filtered_df[\"volume_5day_ratio\"] > 1.0)\n",
        "filtered_df[\"prediction\"] = np.where(probs >= 0.70, 1, np.where(probs <= 0.30, 0, -1))\n",
        "filtered_df[\"correct\"] = filtered_df[\"prediction\"] == filtered_df[\"went_up\"]\n",
        "filtered_df[\"pnl\"] = np.where(filtered_df[\"acted\"], np.where(filtered_df[\"correct\"], 1, -1), 0)\n",
        "filtered_df[\"cum_pnl\"] = filtered_df[\"pnl\"].cumsum()\n",
        "\n",
        "# Plot\n",
        "plt.figure(figsize=(12, 6))\n",
        "plt.plot(filtered_df[\"date\"], filtered_df[\"cum_pnl\"], label=\"Cumulative Return\", color=\"blue\")\n",
        "plt.axhline(0, color=\"gray\", linestyle=\"--\")\n",
        "plt.title(\"Simulated Cumulative Return\\n(Confidence ≥ 70% + Volume > 5-Day Avg)\")\n",
        "plt.xlabel(\"Date\")\n",
        "plt.ylabel(\"Cumulative Units\")\n",
        "plt.legend()\n",
        "plt.grid(True)\n",
        "plt.tight_layout()\n",
        "plt.show()\n",
        "\n",
        "# Summary\n",
        "total_return = filtered_df[\"cum_pnl\"].iloc[-1]\n",
        "num_trades = filtered_df[\"acted\"].sum()\n",
        "win_rate = filtered_df[filtered_df[\"acted\"]][\"correct\"].mean()\n",
        "\n",
        "print(f\"Trades made: {num_trades}\")\n",
        "print(f\"Final cumulative return: {total_return}\")\n",
        "print(f\"Win rate on trades: {win_rate:.4f}\")"
      ],
      "outputs": [],
      "execution_count": null,
      "metadata": {
        "gather": {
          "logged": 1746786476350
        }
      }
    },
    {
      "cell_type": "code",
      "source": [
        "print(model_df_fixed.columns.tolist())"
      ],
      "outputs": [],
      "execution_count": null,
      "metadata": {
        "gather": {
          "logged": 1746786476371
        }
      }
    },
    {
      "cell_type": "code",
      "source": [
        "# Block 1 (Revised): Add return_overnight and previous day range %\n",
        "\n",
        "# Return from previous day's close to today's open (gap)\n",
        "model_df_fixed[\"return_overnight\"] = (\n",
        "    (model_df_fixed[\"close_930\"] - model_df_fixed[\"prev_day_close\"]) / model_df_fixed[\"prev_day_close\"]\n",
        ")\n",
        "\n",
        "# Previous day range percent (if you already have it, this is just reconfirming)\n",
        "model_df_fixed[\"prev_day_range_pct\"] = (\n",
        "    abs(model_df_fixed[\"prev_day_close\"] - model_df_fixed[\"prev_day_open\"]) / model_df_fixed[\"prev_day_open\"]\n",
        ")\n",
        "\n",
        "# Clean up any NaNs\n",
        "model_df_fixed = model_df_fixed.dropna(subset=[\"return_overnight\", \"prev_day_range_pct\"])"
      ],
      "outputs": [],
      "execution_count": null,
      "metadata": {
        "gather": {
          "logged": 1746786476380
        }
      }
    },
    {
      "cell_type": "code",
      "source": [
        "# Reattach technical indicators to model_df_fixed\n",
        "tech_cols = [\n",
        "    \"macd_diff\", \"volume_5day_ratio\", \"bollinger_width\", \"bollinger_position\",\n",
        "    \"prior_volatility\", \"overnight_gap\", \"rsi_14\", \"sma_ratio\"\n",
        "]\n",
        "\n",
        "model_df_fixed = pd.merge(\n",
        "    model_df_fixed,\n",
        "    model_df_ext[[\"date\"] + tech_cols],\n",
        "    on=\"date\",\n",
        "    how=\"left\"\n",
        ")\n",
        "\n",
        "# Drop any rows where these new features are still missing\n",
        "model_df_fixed = model_df_fixed.dropna(subset=tech_cols)"
      ],
      "outputs": [],
      "execution_count": null,
      "metadata": {
        "gather": {
          "logged": 1746786476391
        }
      }
    },
    {
      "cell_type": "code",
      "source": [
        "# Block 2: Retrain with new engineered features\n",
        "\n",
        "# Updated refined feature set\n",
        "refined_features_v2 = [\n",
        "    \"is_quarter_end\", \"is_month_start\", \"is_month_end\",\n",
        "    \"macd_diff\", \"volume_5day_ratio\", \"prev_day_change\",\n",
        "    \"bollinger_width\", \"prior_volatility\", \"overnight_gap\",\n",
        "    \"rsi_14\", \"sma_ratio\", \"bollinger_position\",\n",
        "    \"return_overnight\", \"prev_day_range_pct\"\n",
        "]\n",
        "\n",
        "# Train/test split\n",
        "cutoff_date = pd.to_datetime(\"2024-11-01\")\n",
        "train_df = model_df_fixed[model_df_fixed[\"date\"] < cutoff_date]\n",
        "test_df  = model_df_fixed[model_df_fixed[\"date\"] >= cutoff_date]\n",
        "\n",
        "X_train = train_df[refined_features_v2]\n",
        "y_train = train_df[\"went_up\"]\n",
        "X_test  = test_df[refined_features_v2]\n",
        "y_test  = test_df[\"went_up\"]\n",
        "\n",
        "# Retrain model\n",
        "model = XGBClassifier(eval_metric=\"logloss\", random_state=42)\n",
        "model.fit(X_train, y_train)\n",
        "\n",
        "# Predict probabilities\n",
        "probs = model.predict_proba(X_test)[:, 1]\n",
        "\n",
        "# Confidence filter: 70%\n",
        "threshold = 0.70\n",
        "conf_mask = (probs >= threshold) | (probs <= (1 - threshold))\n",
        "vol_mask = test_df[\"volume_5day_ratio\"] > 1.0\n",
        "final_mask = conf_mask & vol_mask\n",
        "\n",
        "# Final evaluation\n",
        "from sklearn.metrics import accuracy_score\n",
        "\n",
        "preds = (probs[final_mask] >= threshold).astype(int)\n",
        "truth = y_test.loc[final_mask]\n",
        "acc = accuracy_score(truth, preds)\n",
        "\n",
        "print(f\"Final refined model with new features\")\n",
        "print(f\"Confidence threshold: {threshold}\")\n",
        "print(f\"Volume filter: > 5-day avg\")\n",
        "print(f\"Decisions made: {len(preds)} / {len(y_test)}\")\n",
        "print(f\"Accuracy on confident predictions: {acc:.4f}\")"
      ],
      "outputs": [],
      "execution_count": null,
      "metadata": {
        "gather": {
          "logged": 1746786476403
        }
      }
    }
  ],
  "metadata": {
    "kernelspec": {
      "name": "python310-sdkv2",
      "language": "python",
      "display_name": "Python 3.10 - SDK v2"
    },
    "language_info": {
      "name": "python",
      "version": "3.10.11",
      "mimetype": "text/x-python",
      "codemirror_mode": {
        "name": "ipython",
        "version": 3
      },
      "pygments_lexer": "ipython3",
      "nbconvert_exporter": "python",
      "file_extension": ".py"
    },
    "microsoft": {
      "ms_spell_check": {
        "ms_spell_check_language": "en"
      },
      "host": {
        "AzureML": {
          "notebookHasBeenCompleted": true
        }
      }
    },
    "nteract": {
      "version": "nteract-front-end@1.0.0"
    },
    "kernel_info": {
      "name": "python310-sdkv2"
    }
  },
  "nbformat": 4,
  "nbformat_minor": 2
}