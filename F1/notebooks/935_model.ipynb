{
  "cells": [
    {
      "cell_type": "code",
      "source": [
        "import pandas as pd\n",
        "\n",
        "# Load the file without assumptions\n",
        "df = pd.read_csv(\"../data/processed/full_SPY_data.csv\")\n",
        "\n",
        "# Show column names\n",
        "print(\"Columns:\", df.columns.tolist())\n",
        "\n",
        "# Show a few rows\n",
        "df.head()"
      ],
      "outputs": [
        {
          "output_type": "stream",
          "name": "stdout",
          "text": "Columns: ['volume', 'vw', 'open', 'close', 'high', 'low', 'timestamp', 'trades']\n"
        },
        {
          "output_type": "execute_result",
          "execution_count": 1,
          "data": {
            "text/plain": "   volume        vw    open   close    high     low            timestamp  \\\n0  4927.0  294.0346  293.83  293.96  294.34  293.83  2020-05-11 08:00:00   \n1  7420.0  293.9817  294.01  293.92  294.04  293.92  2020-05-11 08:05:00   \n2  3675.0  293.8851  293.95  293.60  293.98  293.59  2020-05-11 08:10:00   \n3  6945.0  293.5993  293.60  293.67  293.69  293.57  2020-05-11 08:15:00   \n4  4252.0  293.7026  293.68  293.55  293.76  293.55  2020-05-11 08:20:00   \n\n   trades  \n0      48  \n1      46  \n2      35  \n3      35  \n4      45  ",
            "text/html": "<div>\n<style scoped>\n    .dataframe tbody tr th:only-of-type {\n        vertical-align: middle;\n    }\n\n    .dataframe tbody tr th {\n        vertical-align: top;\n    }\n\n    .dataframe thead th {\n        text-align: right;\n    }\n</style>\n<table border=\"1\" class=\"dataframe\">\n  <thead>\n    <tr style=\"text-align: right;\">\n      <th></th>\n      <th>volume</th>\n      <th>vw</th>\n      <th>open</th>\n      <th>close</th>\n      <th>high</th>\n      <th>low</th>\n      <th>timestamp</th>\n      <th>trades</th>\n    </tr>\n  </thead>\n  <tbody>\n    <tr>\n      <th>0</th>\n      <td>4927.0</td>\n      <td>294.0346</td>\n      <td>293.83</td>\n      <td>293.96</td>\n      <td>294.34</td>\n      <td>293.83</td>\n      <td>2020-05-11 08:00:00</td>\n      <td>48</td>\n    </tr>\n    <tr>\n      <th>1</th>\n      <td>7420.0</td>\n      <td>293.9817</td>\n      <td>294.01</td>\n      <td>293.92</td>\n      <td>294.04</td>\n      <td>293.92</td>\n      <td>2020-05-11 08:05:00</td>\n      <td>46</td>\n    </tr>\n    <tr>\n      <th>2</th>\n      <td>3675.0</td>\n      <td>293.8851</td>\n      <td>293.95</td>\n      <td>293.60</td>\n      <td>293.98</td>\n      <td>293.59</td>\n      <td>2020-05-11 08:10:00</td>\n      <td>35</td>\n    </tr>\n    <tr>\n      <th>3</th>\n      <td>6945.0</td>\n      <td>293.5993</td>\n      <td>293.60</td>\n      <td>293.67</td>\n      <td>293.69</td>\n      <td>293.57</td>\n      <td>2020-05-11 08:15:00</td>\n      <td>35</td>\n    </tr>\n    <tr>\n      <th>4</th>\n      <td>4252.0</td>\n      <td>293.7026</td>\n      <td>293.68</td>\n      <td>293.55</td>\n      <td>293.76</td>\n      <td>293.55</td>\n      <td>2020-05-11 08:20:00</td>\n      <td>45</td>\n    </tr>\n  </tbody>\n</table>\n</div>"
          },
          "metadata": {}
        }
      ],
      "execution_count": 1,
      "metadata": {
        "gather": {
          "logged": 1746921568402
        }
      }
    },
    {
      "cell_type": "code",
      "source": [
        "import pandas as pd\n",
        "\n",
        "# Load the main data file\n",
        "df = pd.read_csv(\"../data/processed/full_SPY_data.csv\")\n",
        "\n",
        "# Convert timestamp to datetime\n",
        "df[\"timestamp\"] = pd.to_datetime(df[\"timestamp\"])\n",
        "\n",
        "# Extract date and time as new columns\n",
        "df[\"date\"] = df[\"timestamp\"].dt.date\n",
        "df[\"time\"] = df[\"timestamp\"].dt.strftime(\"%H:%M\")\n",
        "\n",
        "# Preview\n",
        "print(\"Columns now:\", df.columns.tolist())\n",
        "df.head()"
      ],
      "outputs": [
        {
          "output_type": "stream",
          "name": "stdout",
          "text": "Columns now: ['volume', 'vw', 'open', 'close', 'high', 'low', 'timestamp', 'trades', 'date', 'time']\n"
        },
        {
          "output_type": "execute_result",
          "execution_count": 2,
          "data": {
            "text/plain": "   volume        vw    open   close    high     low           timestamp  \\\n0  4927.0  294.0346  293.83  293.96  294.34  293.83 2020-05-11 08:00:00   \n1  7420.0  293.9817  294.01  293.92  294.04  293.92 2020-05-11 08:05:00   \n2  3675.0  293.8851  293.95  293.60  293.98  293.59 2020-05-11 08:10:00   \n3  6945.0  293.5993  293.60  293.67  293.69  293.57 2020-05-11 08:15:00   \n4  4252.0  293.7026  293.68  293.55  293.76  293.55 2020-05-11 08:20:00   \n\n   trades        date   time  \n0      48  2020-05-11  08:00  \n1      46  2020-05-11  08:05  \n2      35  2020-05-11  08:10  \n3      35  2020-05-11  08:15  \n4      45  2020-05-11  08:20  ",
            "text/html": "<div>\n<style scoped>\n    .dataframe tbody tr th:only-of-type {\n        vertical-align: middle;\n    }\n\n    .dataframe tbody tr th {\n        vertical-align: top;\n    }\n\n    .dataframe thead th {\n        text-align: right;\n    }\n</style>\n<table border=\"1\" class=\"dataframe\">\n  <thead>\n    <tr style=\"text-align: right;\">\n      <th></th>\n      <th>volume</th>\n      <th>vw</th>\n      <th>open</th>\n      <th>close</th>\n      <th>high</th>\n      <th>low</th>\n      <th>timestamp</th>\n      <th>trades</th>\n      <th>date</th>\n      <th>time</th>\n    </tr>\n  </thead>\n  <tbody>\n    <tr>\n      <th>0</th>\n      <td>4927.0</td>\n      <td>294.0346</td>\n      <td>293.83</td>\n      <td>293.96</td>\n      <td>294.34</td>\n      <td>293.83</td>\n      <td>2020-05-11 08:00:00</td>\n      <td>48</td>\n      <td>2020-05-11</td>\n      <td>08:00</td>\n    </tr>\n    <tr>\n      <th>1</th>\n      <td>7420.0</td>\n      <td>293.9817</td>\n      <td>294.01</td>\n      <td>293.92</td>\n      <td>294.04</td>\n      <td>293.92</td>\n      <td>2020-05-11 08:05:00</td>\n      <td>46</td>\n      <td>2020-05-11</td>\n      <td>08:05</td>\n    </tr>\n    <tr>\n      <th>2</th>\n      <td>3675.0</td>\n      <td>293.8851</td>\n      <td>293.95</td>\n      <td>293.60</td>\n      <td>293.98</td>\n      <td>293.59</td>\n      <td>2020-05-11 08:10:00</td>\n      <td>35</td>\n      <td>2020-05-11</td>\n      <td>08:10</td>\n    </tr>\n    <tr>\n      <th>3</th>\n      <td>6945.0</td>\n      <td>293.5993</td>\n      <td>293.60</td>\n      <td>293.67</td>\n      <td>293.69</td>\n      <td>293.57</td>\n      <td>2020-05-11 08:15:00</td>\n      <td>35</td>\n      <td>2020-05-11</td>\n      <td>08:15</td>\n    </tr>\n    <tr>\n      <th>4</th>\n      <td>4252.0</td>\n      <td>293.7026</td>\n      <td>293.68</td>\n      <td>293.55</td>\n      <td>293.76</td>\n      <td>293.55</td>\n      <td>2020-05-11 08:20:00</td>\n      <td>45</td>\n      <td>2020-05-11</td>\n      <td>08:20</td>\n    </tr>\n  </tbody>\n</table>\n</div>"
          },
          "metadata": {}
        }
      ],
      "execution_count": 2,
      "metadata": {
        "gather": {
          "logged": 1746921570484
        }
      }
    },
    {
      "cell_type": "code",
      "source": [
        "# Filter just the 9:30 and 9:35 rows\n",
        "target_times = [\"09:30\", \"09:35\"]\n",
        "filtered_df = df[df[\"time\"].isin(target_times)].copy()\n",
        "\n",
        "# Verify\n",
        "print(\"Filtered rows:\", filtered_df.shape[0])\n",
        "filtered_df.head()"
      ],
      "outputs": [
        {
          "output_type": "stream",
          "name": "stdout",
          "text": "Filtered rows: 4856\n"
        },
        {
          "output_type": "execute_result",
          "execution_count": 3,
          "data": {
            "text/plain": "      volume        vw    open   close    high     low           timestamp  \\\n18    5770.0  291.8525  291.76  291.85  291.97  291.75 2020-05-11 09:30:00   \n19    4901.0  291.9880  291.86  291.94  292.05  291.86 2020-05-11 09:35:00   \n400  22012.0  285.9674  285.96  286.14  286.14  285.82 2020-05-13 09:30:00   \n401  12385.0  286.3869  286.23  286.39  286.47  286.23 2020-05-13 09:35:00   \n592   6000.0  281.7238  281.62  281.69  281.81  281.62 2020-05-14 09:30:00   \n\n     trades        date   time  \n18       45  2020-05-11  09:30  \n19       37  2020-05-11  09:35  \n400     105  2020-05-13  09:30  \n401      58  2020-05-13  09:35  \n592      21  2020-05-14  09:30  ",
            "text/html": "<div>\n<style scoped>\n    .dataframe tbody tr th:only-of-type {\n        vertical-align: middle;\n    }\n\n    .dataframe tbody tr th {\n        vertical-align: top;\n    }\n\n    .dataframe thead th {\n        text-align: right;\n    }\n</style>\n<table border=\"1\" class=\"dataframe\">\n  <thead>\n    <tr style=\"text-align: right;\">\n      <th></th>\n      <th>volume</th>\n      <th>vw</th>\n      <th>open</th>\n      <th>close</th>\n      <th>high</th>\n      <th>low</th>\n      <th>timestamp</th>\n      <th>trades</th>\n      <th>date</th>\n      <th>time</th>\n    </tr>\n  </thead>\n  <tbody>\n    <tr>\n      <th>18</th>\n      <td>5770.0</td>\n      <td>291.8525</td>\n      <td>291.76</td>\n      <td>291.85</td>\n      <td>291.97</td>\n      <td>291.75</td>\n      <td>2020-05-11 09:30:00</td>\n      <td>45</td>\n      <td>2020-05-11</td>\n      <td>09:30</td>\n    </tr>\n    <tr>\n      <th>19</th>\n      <td>4901.0</td>\n      <td>291.9880</td>\n      <td>291.86</td>\n      <td>291.94</td>\n      <td>292.05</td>\n      <td>291.86</td>\n      <td>2020-05-11 09:35:00</td>\n      <td>37</td>\n      <td>2020-05-11</td>\n      <td>09:35</td>\n    </tr>\n    <tr>\n      <th>400</th>\n      <td>22012.0</td>\n      <td>285.9674</td>\n      <td>285.96</td>\n      <td>286.14</td>\n      <td>286.14</td>\n      <td>285.82</td>\n      <td>2020-05-13 09:30:00</td>\n      <td>105</td>\n      <td>2020-05-13</td>\n      <td>09:30</td>\n    </tr>\n    <tr>\n      <th>401</th>\n      <td>12385.0</td>\n      <td>286.3869</td>\n      <td>286.23</td>\n      <td>286.39</td>\n      <td>286.47</td>\n      <td>286.23</td>\n      <td>2020-05-13 09:35:00</td>\n      <td>58</td>\n      <td>2020-05-13</td>\n      <td>09:35</td>\n    </tr>\n    <tr>\n      <th>592</th>\n      <td>6000.0</td>\n      <td>281.7238</td>\n      <td>281.62</td>\n      <td>281.69</td>\n      <td>281.81</td>\n      <td>281.62</td>\n      <td>2020-05-14 09:30:00</td>\n      <td>21</td>\n      <td>2020-05-14</td>\n      <td>09:30</td>\n    </tr>\n  </tbody>\n</table>\n</div>"
          },
          "metadata": {}
        }
      ],
      "execution_count": 3,
      "metadata": {
        "gather": {
          "logged": 1746921570645
        }
      }
    },
    {
      "cell_type": "code",
      "source": [
        "# Step 1: Pivot 9:30 and 9:35 rows to columns\n",
        "\n",
        "# Drop duplicate (date, time) rows to avoid pivot error\n",
        "filtered_df = filtered_df.drop_duplicates(subset=[\"date\", \"time\"])\n",
        "\n",
        "# Then pivot as before\n",
        "pivot = filtered_df.pivot(index=\"date\", columns=\"time\", values=\"close\")\n",
        "\n",
        "\n",
        "# Step 2: Compute the target\n",
        "# 1 = buy at 9:30, sell at 9:35 (profitable); 0 = otherwise\n",
        "pivot[\"target\"] = (pivot[\"09:35\"] > pivot[\"09:30\"]).astype(int)\n",
        "\n",
        "# Step 3: Flatten back to a DataFrame\n",
        "labels_df = pivot[[\"target\"]].reset_index()\n",
        "\n",
        "# Preview\n",
        "print(labels_df.shape)\n",
        "labels_df.head()"
      ],
      "outputs": [
        {
          "output_type": "stream",
          "name": "stdout",
          "text": "(1238, 2)\n"
        },
        {
          "output_type": "execute_result",
          "execution_count": 4,
          "data": {
            "text/plain": "time        date  target\n0     2020-05-11       1\n1     2020-05-13       1\n2     2020-05-14       1\n3     2020-05-15       0\n4     2020-05-18       1",
            "text/html": "<div>\n<style scoped>\n    .dataframe tbody tr th:only-of-type {\n        vertical-align: middle;\n    }\n\n    .dataframe tbody tr th {\n        vertical-align: top;\n    }\n\n    .dataframe thead th {\n        text-align: right;\n    }\n</style>\n<table border=\"1\" class=\"dataframe\">\n  <thead>\n    <tr style=\"text-align: right;\">\n      <th>time</th>\n      <th>date</th>\n      <th>target</th>\n    </tr>\n  </thead>\n  <tbody>\n    <tr>\n      <th>0</th>\n      <td>2020-05-11</td>\n      <td>1</td>\n    </tr>\n    <tr>\n      <th>1</th>\n      <td>2020-05-13</td>\n      <td>1</td>\n    </tr>\n    <tr>\n      <th>2</th>\n      <td>2020-05-14</td>\n      <td>1</td>\n    </tr>\n    <tr>\n      <th>3</th>\n      <td>2020-05-15</td>\n      <td>0</td>\n    </tr>\n    <tr>\n      <th>4</th>\n      <td>2020-05-18</td>\n      <td>1</td>\n    </tr>\n  </tbody>\n</table>\n</div>"
          },
          "metadata": {}
        }
      ],
      "execution_count": 4,
      "metadata": {
        "gather": {
          "logged": 1746921570751
        }
      }
    },
    {
      "cell_type": "code",
      "source": [
        "# Block 1: Price-Based Features\n",
        "block1 = df.copy()\n",
        "\n",
        "block1[\"range_pct\"] = (block1[\"high\"] - block1[\"low\"]) / block1[\"vw\"]\n",
        "block1[\"mad_diff\"] = abs(block1[\"close\"] - block1[\"vw\"])\n",
        "block1[\"candle_body\"] = abs(block1[\"close\"] - block1[\"open\"])\n",
        "\n",
        "# Keep only relevant columns\n",
        "block1 = block1[[\"date\", \"range_pct\", \"mad_diff\", \"candle_body\"]]\n",
        "\n",
        "# Preview\n",
        "print(\"Block 1 (Price-Based Features):\")\n",
        "block1.head()"
      ],
      "outputs": [
        {
          "output_type": "stream",
          "name": "stdout",
          "text": "Block 1 (Price-Based Features):\n"
        },
        {
          "output_type": "execute_result",
          "execution_count": 5,
          "data": {
            "text/plain": "         date  range_pct  mad_diff  candle_body\n0  2020-05-11   0.001734    0.0746         0.13\n1  2020-05-11   0.000408    0.0617         0.09\n2  2020-05-11   0.001327    0.2851         0.35\n3  2020-05-11   0.000409    0.0707         0.07\n4  2020-05-11   0.000715    0.1526         0.13",
            "text/html": "<div>\n<style scoped>\n    .dataframe tbody tr th:only-of-type {\n        vertical-align: middle;\n    }\n\n    .dataframe tbody tr th {\n        vertical-align: top;\n    }\n\n    .dataframe thead th {\n        text-align: right;\n    }\n</style>\n<table border=\"1\" class=\"dataframe\">\n  <thead>\n    <tr style=\"text-align: right;\">\n      <th></th>\n      <th>date</th>\n      <th>range_pct</th>\n      <th>mad_diff</th>\n      <th>candle_body</th>\n    </tr>\n  </thead>\n  <tbody>\n    <tr>\n      <th>0</th>\n      <td>2020-05-11</td>\n      <td>0.001734</td>\n      <td>0.0746</td>\n      <td>0.13</td>\n    </tr>\n    <tr>\n      <th>1</th>\n      <td>2020-05-11</td>\n      <td>0.000408</td>\n      <td>0.0617</td>\n      <td>0.09</td>\n    </tr>\n    <tr>\n      <th>2</th>\n      <td>2020-05-11</td>\n      <td>0.001327</td>\n      <td>0.2851</td>\n      <td>0.35</td>\n    </tr>\n    <tr>\n      <th>3</th>\n      <td>2020-05-11</td>\n      <td>0.000409</td>\n      <td>0.0707</td>\n      <td>0.07</td>\n    </tr>\n    <tr>\n      <th>4</th>\n      <td>2020-05-11</td>\n      <td>0.000715</td>\n      <td>0.1526</td>\n      <td>0.13</td>\n    </tr>\n  </tbody>\n</table>\n</div>"
          },
          "metadata": {}
        }
      ],
      "execution_count": 5,
      "metadata": {
        "gather": {
          "logged": 1746921570853
        }
      }
    },
    {
      "cell_type": "code",
      "source": [
        "# Block 2: Rolling Averages & Ratios\n",
        "block2 = df.copy()\n",
        "\n",
        "block2[\"sma_3\"] = block2[\"vw\"].rolling(window=3).mean()\n",
        "block2[\"sma_ratio\"] = block2[\"vw\"] / block2[\"sma_3\"]\n",
        "block2[\"sma_distance\"] = abs(block2[\"vw\"] - block2[\"sma_3\"])\n",
        "\n",
        "# Keep only relevant columns\n",
        "block2 = block2[[\"date\", \"sma_3\", \"sma_ratio\", \"sma_distance\"]]\n",
        "\n",
        "# Preview\n",
        "print(\"Block 2 (SMA Features):\")\n",
        "block2.head()"
      ],
      "outputs": [
        {
          "output_type": "stream",
          "name": "stdout",
          "text": "Block 2 (SMA Features):\n"
        },
        {
          "output_type": "execute_result",
          "execution_count": 6,
          "data": {
            "text/plain": "         date       sma_3  sma_ratio  sma_distance\n0  2020-05-11         NaN        NaN           NaN\n1  2020-05-11         NaN        NaN           NaN\n2  2020-05-11  293.967133   0.999721      0.082033\n3  2020-05-11  293.822033   0.999242      0.222733\n4  2020-05-11  293.729000   0.999910      0.026400",
            "text/html": "<div>\n<style scoped>\n    .dataframe tbody tr th:only-of-type {\n        vertical-align: middle;\n    }\n\n    .dataframe tbody tr th {\n        vertical-align: top;\n    }\n\n    .dataframe thead th {\n        text-align: right;\n    }\n</style>\n<table border=\"1\" class=\"dataframe\">\n  <thead>\n    <tr style=\"text-align: right;\">\n      <th></th>\n      <th>date</th>\n      <th>sma_3</th>\n      <th>sma_ratio</th>\n      <th>sma_distance</th>\n    </tr>\n  </thead>\n  <tbody>\n    <tr>\n      <th>0</th>\n      <td>2020-05-11</td>\n      <td>NaN</td>\n      <td>NaN</td>\n      <td>NaN</td>\n    </tr>\n    <tr>\n      <th>1</th>\n      <td>2020-05-11</td>\n      <td>NaN</td>\n      <td>NaN</td>\n      <td>NaN</td>\n    </tr>\n    <tr>\n      <th>2</th>\n      <td>2020-05-11</td>\n      <td>293.967133</td>\n      <td>0.999721</td>\n      <td>0.082033</td>\n    </tr>\n    <tr>\n      <th>3</th>\n      <td>2020-05-11</td>\n      <td>293.822033</td>\n      <td>0.999242</td>\n      <td>0.222733</td>\n    </tr>\n    <tr>\n      <th>4</th>\n      <td>2020-05-11</td>\n      <td>293.729000</td>\n      <td>0.999910</td>\n      <td>0.026400</td>\n    </tr>\n  </tbody>\n</table>\n</div>"
          },
          "metadata": {}
        }
      ],
      "execution_count": 6,
      "metadata": {
        "gather": {
          "logged": 1746921570959
        }
      }
    },
    {
      "cell_type": "code",
      "source": [
        "# Block 3: Previous Day Summary Features\n",
        "block3 = df.copy()\n",
        "\n",
        "prev_df = block3.groupby(\"date\").agg({\n",
        "    \"high\": \"max\",\n",
        "    \"low\": \"min\",\n",
        "    \"close\": \"last\"\n",
        "}).rename(columns={\n",
        "    \"high\": \"prev_day_high\",\n",
        "    \"low\": \"prev_day_low\",\n",
        "    \"close\": \"prev_day_close\"\n",
        "})\n",
        "\n",
        "# Shift forward so today sees yesterday’s values\n",
        "prev_df = prev_df.shift(1)\n",
        "\n",
        "# Merge into block3\n",
        "block3 = block3.merge(prev_df, on=\"date\", how=\"left\")\n",
        "\n",
        "# Derived features\n",
        "block3[\"prev_day_range\"] = block3[\"prev_day_high\"] - block3[\"prev_day_low\"]\n",
        "block3[\"prev_day_change\"] = (block3[\"open\"] - block3[\"prev_day_close\"]) / block3[\"prev_day_close\"]\n",
        "\n",
        "# Keep only relevant columns\n",
        "block3 = block3[[\"date\", \"prev_day_high\", \"prev_day_low\", \"prev_day_close\", \"prev_day_range\", \"prev_day_change\"]]\n",
        "\n",
        "# Preview\n",
        "print(\"Block 3 (Previous Day Summary Features):\")\n",
        "block3.head()"
      ],
      "outputs": [
        {
          "output_type": "stream",
          "name": "stdout",
          "text": "Block 3 (Previous Day Summary Features):\n"
        },
        {
          "output_type": "execute_result",
          "execution_count": 7,
          "data": {
            "text/plain": "         date  prev_day_high  prev_day_low  prev_day_close  prev_day_range  \\\n0  2020-05-11            NaN           NaN             NaN             NaN   \n1  2020-05-11            NaN           NaN             NaN             NaN   \n2  2020-05-11            NaN           NaN             NaN             NaN   \n3  2020-05-11            NaN           NaN             NaN             NaN   \n4  2020-05-11            NaN           NaN             NaN             NaN   \n\n   prev_day_change  \n0              NaN  \n1              NaN  \n2              NaN  \n3              NaN  \n4              NaN  ",
            "text/html": "<div>\n<style scoped>\n    .dataframe tbody tr th:only-of-type {\n        vertical-align: middle;\n    }\n\n    .dataframe tbody tr th {\n        vertical-align: top;\n    }\n\n    .dataframe thead th {\n        text-align: right;\n    }\n</style>\n<table border=\"1\" class=\"dataframe\">\n  <thead>\n    <tr style=\"text-align: right;\">\n      <th></th>\n      <th>date</th>\n      <th>prev_day_high</th>\n      <th>prev_day_low</th>\n      <th>prev_day_close</th>\n      <th>prev_day_range</th>\n      <th>prev_day_change</th>\n    </tr>\n  </thead>\n  <tbody>\n    <tr>\n      <th>0</th>\n      <td>2020-05-11</td>\n      <td>NaN</td>\n      <td>NaN</td>\n      <td>NaN</td>\n      <td>NaN</td>\n      <td>NaN</td>\n    </tr>\n    <tr>\n      <th>1</th>\n      <td>2020-05-11</td>\n      <td>NaN</td>\n      <td>NaN</td>\n      <td>NaN</td>\n      <td>NaN</td>\n      <td>NaN</td>\n    </tr>\n    <tr>\n      <th>2</th>\n      <td>2020-05-11</td>\n      <td>NaN</td>\n      <td>NaN</td>\n      <td>NaN</td>\n      <td>NaN</td>\n      <td>NaN</td>\n    </tr>\n    <tr>\n      <th>3</th>\n      <td>2020-05-11</td>\n      <td>NaN</td>\n      <td>NaN</td>\n      <td>NaN</td>\n      <td>NaN</td>\n      <td>NaN</td>\n    </tr>\n    <tr>\n      <th>4</th>\n      <td>2020-05-11</td>\n      <td>NaN</td>\n      <td>NaN</td>\n      <td>NaN</td>\n      <td>NaN</td>\n      <td>NaN</td>\n    </tr>\n  </tbody>\n</table>\n</div>"
          },
          "metadata": {}
        }
      ],
      "execution_count": 7,
      "metadata": {
        "gather": {
          "logged": 1746921571112
        }
      }
    },
    {
      "cell_type": "code",
      "source": [
        "# Block 4: Volatility & Bollinger Band Features\n",
        "block4_source = df[df[\"time\"] == \"09:30\"].copy()\n",
        "block4_source = block4_source[[\"date\", \"open\"]].rename(columns={\"open\": \"open_930\"})\n",
        "\n",
        "# Compute features\n",
        "block4_source[\"prior_volatility\"] = block4_source[\"open_930\"].rolling(window=5).std()\n",
        "block4_source[\"sma_20\"] = block4_source[\"open_930\"].rolling(window=20).mean()\n",
        "block4_source[\"std_20\"] = block4_source[\"open_930\"].rolling(window=20).std()\n",
        "\n",
        "# Bollinger Bands\n",
        "block4_source[\"bollinger_upper\"] = block4_source[\"sma_20\"] + 2 * block4_source[\"std_20\"]\n",
        "block4_source[\"bollinger_lower\"] = block4_source[\"sma_20\"] - 2 * block4_source[\"std_20\"]\n",
        "block4_source[\"bollinger_width\"] = block4_source[\"bollinger_upper\"] - block4_source[\"bollinger_lower\"]\n",
        "block4_source[\"bollinger_position\"] = block4_source[\"open_930\"] - block4_source[\"bollinger_lower\"]\n",
        "\n",
        "# Keep only needed columns\n",
        "block4 = block4_source[[\"date\", \"prior_volatility\", \"bollinger_width\", \"bollinger_position\"]]\n",
        "\n",
        "# Preview\n",
        "print(\"Block 4 (Volatility & Bollinger Band Features):\")\n",
        "block4.head()"
      ],
      "outputs": [
        {
          "output_type": "stream",
          "name": "stdout",
          "text": "Block 4 (Volatility & Bollinger Band Features):\n"
        },
        {
          "output_type": "execute_result",
          "execution_count": 8,
          "data": {
            "text/plain": "           date  prior_volatility  bollinger_width  bollinger_position\n18   2020-05-11               NaN              NaN                 NaN\n400  2020-05-13               NaN              NaN                 NaN\n592  2020-05-14               NaN              NaN                 NaN\n784  2020-05-15               NaN              NaN                 NaN\n976  2020-05-18          3.805559              NaN                 NaN",
            "text/html": "<div>\n<style scoped>\n    .dataframe tbody tr th:only-of-type {\n        vertical-align: middle;\n    }\n\n    .dataframe tbody tr th {\n        vertical-align: top;\n    }\n\n    .dataframe thead th {\n        text-align: right;\n    }\n</style>\n<table border=\"1\" class=\"dataframe\">\n  <thead>\n    <tr style=\"text-align: right;\">\n      <th></th>\n      <th>date</th>\n      <th>prior_volatility</th>\n      <th>bollinger_width</th>\n      <th>bollinger_position</th>\n    </tr>\n  </thead>\n  <tbody>\n    <tr>\n      <th>18</th>\n      <td>2020-05-11</td>\n      <td>NaN</td>\n      <td>NaN</td>\n      <td>NaN</td>\n    </tr>\n    <tr>\n      <th>400</th>\n      <td>2020-05-13</td>\n      <td>NaN</td>\n      <td>NaN</td>\n      <td>NaN</td>\n    </tr>\n    <tr>\n      <th>592</th>\n      <td>2020-05-14</td>\n      <td>NaN</td>\n      <td>NaN</td>\n      <td>NaN</td>\n    </tr>\n    <tr>\n      <th>784</th>\n      <td>2020-05-15</td>\n      <td>NaN</td>\n      <td>NaN</td>\n      <td>NaN</td>\n    </tr>\n    <tr>\n      <th>976</th>\n      <td>2020-05-18</td>\n      <td>3.805559</td>\n      <td>NaN</td>\n      <td>NaN</td>\n    </tr>\n  </tbody>\n</table>\n</div>"
          },
          "metadata": {}
        }
      ],
      "execution_count": 8,
      "metadata": {
        "gather": {
          "logged": 1746921571216
        }
      }
    },
    {
      "cell_type": "code",
      "source": [
        "# Block 4b: Overnight Gap Feature\n",
        "\n",
        "# Step 1: Get 9:35 close and compute previous close\n",
        "close_935 = filtered_df[filtered_df[\"time\"] == \"09:35\"].copy()\n",
        "close_935[\"prev_close\"] = close_935[\"close\"].shift(1)\n",
        "\n",
        "# Step 2: Get 9:30 open prices\n",
        "open_930 = filtered_df[filtered_df[\"time\"] == \"09:30\"].copy()\n",
        "\n",
        "# Step 3: Merge close data into open data\n",
        "open_930 = open_930.merge(close_935[[\"date\", \"prev_close\"]], on=\"date\", how=\"left\")\n",
        "\n",
        "# Step 4: Calculate overnight gap\n",
        "open_930[\"overnight_gap\"] = (open_930[\"open\"] - open_930[\"prev_close\"]) / open_930[\"prev_close\"]\n",
        "\n",
        "# Step 5: Create block\n",
        "block4b = open_930[[\"date\", \"overnight_gap\"]]\n",
        "\n",
        "# Preview\n",
        "print(\"Block 4b (Overnight Gap Feature):\")\n",
        "block4b.head()"
      ],
      "outputs": [
        {
          "output_type": "stream",
          "name": "stdout",
          "text": "Block 4b (Overnight Gap Feature):\n"
        },
        {
          "output_type": "execute_result",
          "execution_count": 9,
          "data": {
            "text/plain": "         date  overnight_gap\n0  2020-05-11            NaN\n1  2020-05-13      -0.020484\n2  2020-05-14      -0.016656\n3  2020-05-15       0.014268\n4  2020-05-18       0.012331",
            "text/html": "<div>\n<style scoped>\n    .dataframe tbody tr th:only-of-type {\n        vertical-align: middle;\n    }\n\n    .dataframe tbody tr th {\n        vertical-align: top;\n    }\n\n    .dataframe thead th {\n        text-align: right;\n    }\n</style>\n<table border=\"1\" class=\"dataframe\">\n  <thead>\n    <tr style=\"text-align: right;\">\n      <th></th>\n      <th>date</th>\n      <th>overnight_gap</th>\n    </tr>\n  </thead>\n  <tbody>\n    <tr>\n      <th>0</th>\n      <td>2020-05-11</td>\n      <td>NaN</td>\n    </tr>\n    <tr>\n      <th>1</th>\n      <td>2020-05-13</td>\n      <td>-0.020484</td>\n    </tr>\n    <tr>\n      <th>2</th>\n      <td>2020-05-14</td>\n      <td>-0.016656</td>\n    </tr>\n    <tr>\n      <th>3</th>\n      <td>2020-05-15</td>\n      <td>0.014268</td>\n    </tr>\n    <tr>\n      <th>4</th>\n      <td>2020-05-18</td>\n      <td>0.012331</td>\n    </tr>\n  </tbody>\n</table>\n</div>"
          },
          "metadata": {}
        }
      ],
      "execution_count": 9,
      "metadata": {
        "gather": {
          "logged": 1746921571321
        }
      }
    },
    {
      "cell_type": "code",
      "source": [
        "# Step 1: Calculate RSI and daily return again (to reattach them)\n",
        "# Reuse filtered_df\n",
        "close_935 = filtered_df[filtered_df[\"time\"] == \"09:35\"].copy()\n",
        "close_935[\"daily_return\"] = close_935[\"close\"].pct_change()\n",
        "\n",
        "delta = close_935[\"close\"].diff()\n",
        "gain = delta.clip(lower=0)\n",
        "loss = -delta.clip(upper=0)\n",
        "avg_gain = gain.rolling(14).mean()\n",
        "avg_loss = loss.rolling(14).mean()\n",
        "rs = avg_gain / avg_loss\n",
        "close_935[\"rsi_14\"] = 100 - (100 / (1 + rs))\n",
        "\n",
        "# Step 2: Shift 9:35 close to get prev_close\n",
        "close_935[\"prev_close\"] = close_935[\"close\"].shift(1)\n",
        "\n",
        "# Step 3: Prepare open_930\n",
        "open_930 = filtered_df[filtered_df[\"time\"] == \"09:30\"].copy()\n",
        "\n",
        "# Step 4: Merge daily_return and rsi into open_930\n",
        "open_930 = open_930.merge(close_935[[\"date\", \"rsi_14\", \"daily_return\", \"prev_close\"]], on=\"date\", how=\"left\")\n",
        "\n",
        "# Step 5: Calculate overnight_gap\n",
        "open_930[\"overnight_gap\"] = (open_930[\"open\"] - open_930[\"prev_close\"]) / open_930[\"prev_close\"]\n",
        "\n",
        "# Step 6: Finalize block5\n",
        "block5 = open_930[[\"date\", \"rsi_14\", \"daily_return\", \"overnight_gap\"]].dropna().reset_index(drop=True)\n",
        "\n",
        "# Preview\n",
        "print(\"Final Block 5:\")\n",
        "block5.head()"
      ],
      "outputs": [
        {
          "output_type": "stream",
          "name": "stdout",
          "text": "Final Block 5:\n"
        },
        {
          "output_type": "execute_result",
          "execution_count": 10,
          "data": {
            "text/plain": "         date     rsi_14  daily_return  overnight_gap\n0  2020-06-02  67.517921      0.011577       0.010360\n1  2020-06-03  78.260870      0.006762       0.007023\n2  2020-06-04  88.508819      0.002906       0.002648\n3  2020-06-05  88.331072      0.010111       0.010143\n4  2020-06-08  89.282154      0.021741       0.022251",
            "text/html": "<div>\n<style scoped>\n    .dataframe tbody tr th:only-of-type {\n        vertical-align: middle;\n    }\n\n    .dataframe tbody tr th {\n        vertical-align: top;\n    }\n\n    .dataframe thead th {\n        text-align: right;\n    }\n</style>\n<table border=\"1\" class=\"dataframe\">\n  <thead>\n    <tr style=\"text-align: right;\">\n      <th></th>\n      <th>date</th>\n      <th>rsi_14</th>\n      <th>daily_return</th>\n      <th>overnight_gap</th>\n    </tr>\n  </thead>\n  <tbody>\n    <tr>\n      <th>0</th>\n      <td>2020-06-02</td>\n      <td>67.517921</td>\n      <td>0.011577</td>\n      <td>0.010360</td>\n    </tr>\n    <tr>\n      <th>1</th>\n      <td>2020-06-03</td>\n      <td>78.260870</td>\n      <td>0.006762</td>\n      <td>0.007023</td>\n    </tr>\n    <tr>\n      <th>2</th>\n      <td>2020-06-04</td>\n      <td>88.508819</td>\n      <td>0.002906</td>\n      <td>0.002648</td>\n    </tr>\n    <tr>\n      <th>3</th>\n      <td>2020-06-05</td>\n      <td>88.331072</td>\n      <td>0.010111</td>\n      <td>0.010143</td>\n    </tr>\n    <tr>\n      <th>4</th>\n      <td>2020-06-08</td>\n      <td>89.282154</td>\n      <td>0.021741</td>\n      <td>0.022251</td>\n    </tr>\n  </tbody>\n</table>\n</div>"
          },
          "metadata": {}
        }
      ],
      "execution_count": 10,
      "metadata": {
        "gather": {
          "logged": 1746921571443
        }
      }
    },
    {
      "cell_type": "code",
      "source": [
        "# Diagnostic for Blocks 1 to 4\n",
        "for i, block in enumerate([block1, block2, block3, block4], start=1):\n",
        "    print(f\"\\n--- Block {i} Diagnostic ---\")\n",
        "    print(\"Shape:\", block.shape)\n",
        "    print(\"Unique dates:\", block[\"date\"].nunique())\n",
        "    print(\"Date dtype:\", block[\"date\"].dtype)\n",
        "    print(block.head())"
      ],
      "outputs": [
        {
          "output_type": "stream",
          "name": "stdout",
          "text": "\n--- Block 1 Diagnostic ---\nShape: (487214, 4)\nUnique dates: 1344\nDate dtype: object\n         date  range_pct  mad_diff  candle_body\n0  2020-05-11   0.001734    0.0746         0.13\n1  2020-05-11   0.000408    0.0617         0.09\n2  2020-05-11   0.001327    0.2851         0.35\n3  2020-05-11   0.000409    0.0707         0.07\n4  2020-05-11   0.000715    0.1526         0.13\n\n--- Block 2 Diagnostic ---\nShape: (487214, 4)\nUnique dates: 1344\nDate dtype: object\n         date       sma_3  sma_ratio  sma_distance\n0  2020-05-11         NaN        NaN           NaN\n1  2020-05-11         NaN        NaN           NaN\n2  2020-05-11  293.967133   0.999721      0.082033\n3  2020-05-11  293.822033   0.999242      0.222733\n4  2020-05-11  293.729000   0.999910      0.026400\n\n--- Block 3 Diagnostic ---\nShape: (487214, 6)\nUnique dates: 1344\nDate dtype: object\n         date  prev_day_high  prev_day_low  prev_day_close  prev_day_range  \\\n0  2020-05-11            NaN           NaN             NaN             NaN   \n1  2020-05-11            NaN           NaN             NaN             NaN   \n2  2020-05-11            NaN           NaN             NaN             NaN   \n3  2020-05-11            NaN           NaN             NaN             NaN   \n4  2020-05-11            NaN           NaN             NaN             NaN   \n\n   prev_day_change  \n0              NaN  \n1              NaN  \n2              NaN  \n3              NaN  \n4              NaN  \n\n--- Block 4 Diagnostic ---\nShape: (2442, 4)\nUnique dates: 1181\nDate dtype: object\n           date  prior_volatility  bollinger_width  bollinger_position\n18   2020-05-11               NaN              NaN                 NaN\n400  2020-05-13               NaN              NaN                 NaN\n592  2020-05-14               NaN              NaN                 NaN\n784  2020-05-15               NaN              NaN                 NaN\n976  2020-05-18          3.805559              NaN                 NaN\n"
        }
      ],
      "execution_count": 20,
      "metadata": {
        "gather": {
          "logged": 1746921825167
        }
      }
    },
    {
      "cell_type": "code",
      "source": [
        "#Block 6.  Work from the same 9:30 open prices\n",
        "\n",
        "\n",
        "# Create trend-based features\n",
        "open_930[\"open_prev_1\"] = open_930[\"open\"].shift(1)\n",
        "open_930[\"open_prev_2\"] = open_930[\"open\"].shift(2)\n",
        "\n",
        "open_930[\"1d_trend\"] = (open_930[\"open\"] - open_930[\"open_prev_1\"]) / open_930[\"open_prev_1\"]\n",
        "open_930[\"2d_trend\"] = (open_930[\"open\"] - open_930[\"open_prev_2\"]) / open_930[\"open_prev_2\"]\n",
        "\n",
        "# Create gap vs trend ratio\n",
        "open_930[\"gap_vs_trend\"] = open_930[\"overnight_gap\"] / open_930[\"1d_trend\"]\n",
        "\n",
        "# Final trend features block\n",
        "block6 = open_930[[\"date\", \"1d_trend\", \"2d_trend\", \"gap_vs_trend\"]].copy()\n",
        "\n",
        "# Preview\n",
        "print(\"Block 6 (Trend and Gap Features):\")\n",
        "block6.head()"
      ],
      "outputs": [
        {
          "output_type": "stream",
          "name": "stdout",
          "text": "Block 6 (Trend and Gap Features):\n"
        },
        {
          "output_type": "execute_result",
          "execution_count": 11,
          "data": {
            "text/plain": "         date  1d_trend  2d_trend  gap_vs_trend\n0  2020-05-11       NaN       NaN           NaN\n1  2020-05-13 -0.019879       NaN      1.030399\n2  2020-05-14 -0.015177 -0.034755      1.097428\n3  2020-05-15  0.014701 -0.000699      0.970601\n4  2020-05-18  0.011233  0.026099      1.097764",
            "text/html": "<div>\n<style scoped>\n    .dataframe tbody tr th:only-of-type {\n        vertical-align: middle;\n    }\n\n    .dataframe tbody tr th {\n        vertical-align: top;\n    }\n\n    .dataframe thead th {\n        text-align: right;\n    }\n</style>\n<table border=\"1\" class=\"dataframe\">\n  <thead>\n    <tr style=\"text-align: right;\">\n      <th></th>\n      <th>date</th>\n      <th>1d_trend</th>\n      <th>2d_trend</th>\n      <th>gap_vs_trend</th>\n    </tr>\n  </thead>\n  <tbody>\n    <tr>\n      <th>0</th>\n      <td>2020-05-11</td>\n      <td>NaN</td>\n      <td>NaN</td>\n      <td>NaN</td>\n    </tr>\n    <tr>\n      <th>1</th>\n      <td>2020-05-13</td>\n      <td>-0.019879</td>\n      <td>NaN</td>\n      <td>1.030399</td>\n    </tr>\n    <tr>\n      <th>2</th>\n      <td>2020-05-14</td>\n      <td>-0.015177</td>\n      <td>-0.034755</td>\n      <td>1.097428</td>\n    </tr>\n    <tr>\n      <th>3</th>\n      <td>2020-05-15</td>\n      <td>0.014701</td>\n      <td>-0.000699</td>\n      <td>0.970601</td>\n    </tr>\n    <tr>\n      <th>4</th>\n      <td>2020-05-18</td>\n      <td>0.011233</td>\n      <td>0.026099</td>\n      <td>1.097764</td>\n    </tr>\n  </tbody>\n</table>\n</div>"
          },
          "metadata": {}
        }
      ],
      "execution_count": 11,
      "metadata": {
        "gather": {
          "logged": 1746921571553
        }
      }
    },
    {
      "cell_type": "code",
      "source": [
        "# Block 7: Calendar Features\n",
        "calendar = open_930[[\"date\"]].copy()\n",
        "calendar[\"date\"] = pd.to_datetime(calendar[\"date\"])\n",
        "\n",
        "# Day of week: Monday=0, Sunday=6\n",
        "calendar[\"day_of_week\"] = calendar[\"date\"].dt.weekday\n",
        "calendar[\"is_monday\"] = (calendar[\"day_of_week\"] == 0).astype(int)\n",
        "calendar[\"is_friday\"] = (calendar[\"day_of_week\"] == 4).astype(int)\n",
        "calendar[\"month\"] = calendar[\"date\"].dt.month\n",
        "\n",
        "# Final calendar block\n",
        "block7 = calendar[[\"date\", \"day_of_week\", \"is_monday\", \"is_friday\", \"month\"]].copy()\n",
        "\n",
        "# Preview\n",
        "print(\"Block 7 (Calendar Features):\")\n",
        "block7.head()"
      ],
      "outputs": [
        {
          "output_type": "stream",
          "name": "stdout",
          "text": "Block 7 (Calendar Features):\n"
        },
        {
          "output_type": "execute_result",
          "execution_count": 12,
          "data": {
            "text/plain": "        date  day_of_week  is_monday  is_friday  month\n0 2020-05-11            0          1          0      5\n1 2020-05-13            2          0          0      5\n2 2020-05-14            3          0          0      5\n3 2020-05-15            4          0          1      5\n4 2020-05-18            0          1          0      5",
            "text/html": "<div>\n<style scoped>\n    .dataframe tbody tr th:only-of-type {\n        vertical-align: middle;\n    }\n\n    .dataframe tbody tr th {\n        vertical-align: top;\n    }\n\n    .dataframe thead th {\n        text-align: right;\n    }\n</style>\n<table border=\"1\" class=\"dataframe\">\n  <thead>\n    <tr style=\"text-align: right;\">\n      <th></th>\n      <th>date</th>\n      <th>day_of_week</th>\n      <th>is_monday</th>\n      <th>is_friday</th>\n      <th>month</th>\n    </tr>\n  </thead>\n  <tbody>\n    <tr>\n      <th>0</th>\n      <td>2020-05-11</td>\n      <td>0</td>\n      <td>1</td>\n      <td>0</td>\n      <td>5</td>\n    </tr>\n    <tr>\n      <th>1</th>\n      <td>2020-05-13</td>\n      <td>2</td>\n      <td>0</td>\n      <td>0</td>\n      <td>5</td>\n    </tr>\n    <tr>\n      <th>2</th>\n      <td>2020-05-14</td>\n      <td>3</td>\n      <td>0</td>\n      <td>0</td>\n      <td>5</td>\n    </tr>\n    <tr>\n      <th>3</th>\n      <td>2020-05-15</td>\n      <td>4</td>\n      <td>0</td>\n      <td>1</td>\n      <td>5</td>\n    </tr>\n    <tr>\n      <th>4</th>\n      <td>2020-05-18</td>\n      <td>0</td>\n      <td>1</td>\n      <td>0</td>\n      <td>5</td>\n    </tr>\n  </tbody>\n</table>\n</div>"
          },
          "metadata": {}
        }
      ],
      "execution_count": 12,
      "metadata": {
        "gather": {
          "logged": 1746921571655
        }
      }
    },
    {
      "cell_type": "code",
      "source": [
        "# Block 8: Market Trend Features\n",
        "trend = open_930[[\"date\", \"open\"]].copy()\n",
        "\n",
        "# Rolling trend over the past 5, 10, and 20 days\n",
        "trend[\"trend_5\"] = trend[\"open\"].pct_change(periods=5)\n",
        "trend[\"trend_10\"] = trend[\"open\"].pct_change(periods=10)\n",
        "trend[\"trend_20\"] = trend[\"open\"].pct_change(periods=20)\n",
        "\n",
        "# Final trend block\n",
        "block8 = trend[[\"date\", \"trend_5\", \"trend_10\", \"trend_20\"]].copy()\n",
        "\n",
        "# Preview\n",
        "print(\"Block 8 (Market Trend Features):\")\n",
        "block8.head()"
      ],
      "outputs": [
        {
          "output_type": "stream",
          "name": "stdout",
          "text": "Block 8 (Market Trend Features):\n"
        },
        {
          "output_type": "execute_result",
          "execution_count": 13,
          "data": {
            "text/plain": "         date  trend_5  trend_10  trend_20\n0  2020-05-11      NaN       NaN       NaN\n1  2020-05-13      NaN       NaN       NaN\n2  2020-05-14      NaN       NaN       NaN\n3  2020-05-15      NaN       NaN       NaN\n4  2020-05-18      NaN       NaN       NaN",
            "text/html": "<div>\n<style scoped>\n    .dataframe tbody tr th:only-of-type {\n        vertical-align: middle;\n    }\n\n    .dataframe tbody tr th {\n        vertical-align: top;\n    }\n\n    .dataframe thead th {\n        text-align: right;\n    }\n</style>\n<table border=\"1\" class=\"dataframe\">\n  <thead>\n    <tr style=\"text-align: right;\">\n      <th></th>\n      <th>date</th>\n      <th>trend_5</th>\n      <th>trend_10</th>\n      <th>trend_20</th>\n    </tr>\n  </thead>\n  <tbody>\n    <tr>\n      <th>0</th>\n      <td>2020-05-11</td>\n      <td>NaN</td>\n      <td>NaN</td>\n      <td>NaN</td>\n    </tr>\n    <tr>\n      <th>1</th>\n      <td>2020-05-13</td>\n      <td>NaN</td>\n      <td>NaN</td>\n      <td>NaN</td>\n    </tr>\n    <tr>\n      <th>2</th>\n      <td>2020-05-14</td>\n      <td>NaN</td>\n      <td>NaN</td>\n      <td>NaN</td>\n    </tr>\n    <tr>\n      <th>3</th>\n      <td>2020-05-15</td>\n      <td>NaN</td>\n      <td>NaN</td>\n      <td>NaN</td>\n    </tr>\n    <tr>\n      <th>4</th>\n      <td>2020-05-18</td>\n      <td>NaN</td>\n      <td>NaN</td>\n      <td>NaN</td>\n    </tr>\n  </tbody>\n</table>\n</div>"
          },
          "metadata": {}
        }
      ],
      "execution_count": 13,
      "metadata": {
        "gather": {
          "logged": 1746921571756
        }
      }
    },
    {
      "cell_type": "code",
      "source": [
        "print(\"Block8 shape:\", block8.shape)\n",
        "print(\"Unique dates:\", block8[\"date\"].nunique())\n",
        "print(\"Date dtype:\", block8[\"date\"].dtype)\n",
        "print(block8.head())"
      ],
      "outputs": [
        {
          "output_type": "stream",
          "name": "stdout",
          "text": "Block8 shape: (1181, 4)\nUnique dates: 1181\nDate dtype: object\n         date  trend_5  trend_10  trend_20\n0  2020-05-11      NaN       NaN       NaN\n1  2020-05-13      NaN       NaN       NaN\n2  2020-05-14      NaN       NaN       NaN\n3  2020-05-15      NaN       NaN       NaN\n4  2020-05-18      NaN       NaN       NaN\n"
        }
      ],
      "execution_count": 18,
      "metadata": {
        "gather": {
          "logged": 1746921689806
        }
      }
    }
  ],
  "metadata": {
    "kernelspec": {
      "name": "python310-sdkv2",
      "language": "python",
      "display_name": "Python 3.10 - SDK v2"
    },
    "language_info": {
      "name": "python",
      "version": "3.10.16",
      "mimetype": "text/x-python",
      "codemirror_mode": {
        "name": "ipython",
        "version": 3
      },
      "pygments_lexer": "ipython3",
      "nbconvert_exporter": "python",
      "file_extension": ".py"
    },
    "microsoft": {
      "ms_spell_check": {
        "ms_spell_check_language": "en"
      },
      "host": {
        "AzureML": {
          "notebookHasBeenCompleted": true
        }
      }
    },
    "kernel_info": {
      "name": "python310-sdkv2"
    },
    "nteract": {
      "version": "nteract-front-end@1.0.0"
    }
  },
  "nbformat": 4,
  "nbformat_minor": 2
}