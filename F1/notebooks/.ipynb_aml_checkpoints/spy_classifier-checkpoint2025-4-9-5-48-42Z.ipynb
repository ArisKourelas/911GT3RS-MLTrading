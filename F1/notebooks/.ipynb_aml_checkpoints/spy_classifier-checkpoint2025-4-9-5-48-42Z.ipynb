{
  "cells": [
    {
      "cell_type": "code",
      "source": [
        "!pip install yfinance xgboost pandas numpy matplotlib scikit-learn --quiet"
      ],
      "outputs": [],
      "execution_count": 2,
      "metadata": {}
    },
    {
      "cell_type": "code",
      "source": [
        "!pip install yfinance --upgrade --quiet"
      ],
      "outputs": [],
      "execution_count": 4,
      "metadata": {}
    },
    {
      "cell_type": "code",
      "source": [
        "import sys\n",
        "!{sys.executable} -m pip install yfinance --quiet"
      ],
      "outputs": [],
      "execution_count": 6,
      "metadata": {
        "gather": {
          "logged": 1746239329772
        }
      }
    },
    {
      "cell_type": "code",
      "source": [
        "import yfinance as yf"
      ],
      "outputs": [],
      "execution_count": 7,
      "metadata": {
        "gather": {
          "logged": 1746239366329
        }
      }
    },
    {
      "cell_type": "code",
      "source": [
        "spy_data = yf.download(\"SPY\", interval=\"5  m\", period=\"7d\")\n",
        "spy_data.head()"
      ],
      "outputs": [
        {
          "output_type": "stream",
          "name": "stderr",
          "text": "\r[*********************100%***********************]  1 of 1 completed\n"
        },
        {
          "output_type": "execute_result",
          "execution_count": 9,
          "data": {
            "text/plain": "Price                           Close        High         Low        Open  \\\nTicker                            SPY         SPY         SPY         SPY   \nDatetime                                                                    \n2025-04-24 13:30:00+00:00  536.270081  536.960022  535.807373  536.715027   \n2025-04-24 13:35:00+00:00  536.710022  536.760010  535.450378  536.270020   \n2025-04-24 13:40:00+00:00  537.780029  537.929993  536.640015  536.705017   \n2025-04-24 13:45:00+00:00  538.263489  538.530029  537.739990  537.770020   \n2025-04-24 13:50:00+00:00  538.760010  538.909973  538.030029  538.270020   \n\nPrice                       Volume  \nTicker                         SPY  \nDatetime                            \n2025-04-24 13:30:00+00:00  3373565  \n2025-04-24 13:35:00+00:00   612504  \n2025-04-24 13:40:00+00:00   728584  \n2025-04-24 13:45:00+00:00  1002687  \n2025-04-24 13:50:00+00:00   471107  ",
            "text/html": "<div>\n<style scoped>\n    .dataframe tbody tr th:only-of-type {\n        vertical-align: middle;\n    }\n\n    .dataframe tbody tr th {\n        vertical-align: top;\n    }\n\n    .dataframe thead tr th {\n        text-align: left;\n    }\n\n    .dataframe thead tr:last-of-type th {\n        text-align: right;\n    }\n</style>\n<table border=\"1\" class=\"dataframe\">\n  <thead>\n    <tr>\n      <th>Price</th>\n      <th>Close</th>\n      <th>High</th>\n      <th>Low</th>\n      <th>Open</th>\n      <th>Volume</th>\n    </tr>\n    <tr>\n      <th>Ticker</th>\n      <th>SPY</th>\n      <th>SPY</th>\n      <th>SPY</th>\n      <th>SPY</th>\n      <th>SPY</th>\n    </tr>\n    <tr>\n      <th>Datetime</th>\n      <th></th>\n      <th></th>\n      <th></th>\n      <th></th>\n      <th></th>\n    </tr>\n  </thead>\n  <tbody>\n    <tr>\n      <th>2025-04-24 13:30:00+00:00</th>\n      <td>536.270081</td>\n      <td>536.960022</td>\n      <td>535.807373</td>\n      <td>536.715027</td>\n      <td>3373565</td>\n    </tr>\n    <tr>\n      <th>2025-04-24 13:35:00+00:00</th>\n      <td>536.710022</td>\n      <td>536.760010</td>\n      <td>535.450378</td>\n      <td>536.270020</td>\n      <td>612504</td>\n    </tr>\n    <tr>\n      <th>2025-04-24 13:40:00+00:00</th>\n      <td>537.780029</td>\n      <td>537.929993</td>\n      <td>536.640015</td>\n      <td>536.705017</td>\n      <td>728584</td>\n    </tr>\n    <tr>\n      <th>2025-04-24 13:45:00+00:00</th>\n      <td>538.263489</td>\n      <td>538.530029</td>\n      <td>537.739990</td>\n      <td>537.770020</td>\n      <td>1002687</td>\n    </tr>\n    <tr>\n      <th>2025-04-24 13:50:00+00:00</th>\n      <td>538.760010</td>\n      <td>538.909973</td>\n      <td>538.030029</td>\n      <td>538.270020</td>\n      <td>471107</td>\n    </tr>\n  </tbody>\n</table>\n</div>"
          },
          "metadata": {}
        }
      ],
      "execution_count": 9,
      "metadata": {
        "gather": {
          "logged": 1746239916812
        }
      }
    },
    {
      "cell_type": "code",
      "source": [],
      "outputs": [],
      "execution_count": null,
      "metadata": {}
    }
  ],
  "metadata": {
    "kernelspec": {
      "display_name": "Python 3.10 - SDK v2",
      "language": "python",
      "name": "python310-sdkv2"
    },
    "language_info": {
      "name": "python",
      "version": "3.10.16",
      "mimetype": "text/x-python",
      "codemirror_mode": {
        "name": "ipython",
        "version": 3
      },
      "pygments_lexer": "ipython3",
      "nbconvert_exporter": "python",
      "file_extension": ".py"
    },
    "microsoft": {
      "ms_spell_check": {
        "ms_spell_check_language": "en"
      }
    },
    "nteract": {
      "version": "nteract-front-end@1.0.0"
    }
  },
  "nbformat": 4,
  "nbformat_minor": 2
}