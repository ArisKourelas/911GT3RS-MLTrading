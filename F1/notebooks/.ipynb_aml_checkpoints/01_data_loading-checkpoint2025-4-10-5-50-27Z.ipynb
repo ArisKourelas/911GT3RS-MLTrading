{
  "cells": [
    {
      "cell_type": "code",
      "source": [
        "import os\n",
        "\n",
        "base = \"SPY_Model\"\n",
        "folders = [\n",
        "    \"data/raw\", \"data/processed\", \"data/features\",\n",
        "    \"notebooks\",\n",
        "    \"models/saved_models\", \"models/ensemble_outputs\",\n",
        "    \"outputs/reports\",\n",
        "    \"utils\"\n",
        "]\n",
        "\n",
        "for folder in folders:\n",
        "    os.makedirs(os.path.join(base, folder), exist_ok=True)\n",
        "\n",
        "print(\"Folder structure rebuilt.\")"
      ],
      "outputs": [
        {
          "output_type": "stream",
          "name": "stdout",
          "text": "Folder structure rebuilt.\n"
        }
      ],
      "execution_count": 2,
      "metadata": {
        "gather": {
          "logged": 1746855459192
        }
      }
    },
    {
      "cell_type": "code",
      "source": [
        "load_data_code = '''\n",
        "import pandas as pd\n",
        "import os\n",
        "\n",
        "def load_csv(filename, subfolder='raw'):\n",
        "    \"\"\"\n",
        "    Load a CSV from the data directory.\n",
        "\n",
        "    Args:\n",
        "        filename (str): Name of the file (e.g., 'spy_data.csv')\n",
        "        subfolder (str): Subdirectory under /data (e.g., 'raw', 'processed')\n",
        "\n",
        "    Returns:\n",
        "        pd.DataFrame: Loaded DataFrame\n",
        "    \"\"\"\n",
        "    path = os.path.join(\"data\", subfolder, filename)\n",
        "    return pd.read_csv(path)\n",
        "'''\n",
        "\n",
        "with open(\"SPY_Model/utils/load_data.py\", \"w\") as f:\n",
        "    f.write(load_data_code)\n",
        "\n",
        "print(\"load_data.py restored.\")"
      ],
      "outputs": [
        {
          "output_type": "stream",
          "name": "stdout",
          "text": "load_data.py restored.\n"
        }
      ],
      "execution_count": 3,
      "metadata": {
        "gather": {
          "logged": 1746855460833
        }
      }
    },
    {
      "cell_type": "code",
      "source": [
        "import sys\n",
        "sys.path.append(\"SPY_Model/utils\")  # Make sure this matches the actual relative path\n",
        "\n",
        "from load_data import load_csv\n",
        "\n",
        "# Test loading a file\n",
        "df = load_csv(\"SPY_5min_2020_05.csv\")\n",
        "df.head()"
      ],
      "outputs": [
        {
          "output_type": "error",
          "ename": "ModuleNotFoundError",
          "evalue": "No module named 'load_data'",
          "traceback": [
            "\u001b[0;31m---------------------------------------------------------------------------\u001b[0m",
            "\u001b[0;31mModuleNotFoundError\u001b[0m                       Traceback (most recent call last)",
            "Cell \u001b[0;32mIn[5], line 4\u001b[0m\n\u001b[1;32m      1\u001b[0m \u001b[38;5;28;01mimport\u001b[39;00m\u001b[38;5;250m \u001b[39m\u001b[38;5;21;01msys\u001b[39;00m\n\u001b[1;32m      2\u001b[0m sys\u001b[38;5;241m.\u001b[39mpath\u001b[38;5;241m.\u001b[39mappend(\u001b[38;5;124m\"\u001b[39m\u001b[38;5;124mSPY_Model/utils\u001b[39m\u001b[38;5;124m\"\u001b[39m)  \u001b[38;5;66;03m# Make sure this matches the actual relative path\u001b[39;00m\n\u001b[0;32m----> 4\u001b[0m \u001b[38;5;28;01mfrom\u001b[39;00m\u001b[38;5;250m \u001b[39m\u001b[38;5;21;01mload_data\u001b[39;00m\u001b[38;5;250m \u001b[39m\u001b[38;5;28;01mimport\u001b[39;00m load_csv\n\u001b[1;32m      6\u001b[0m \u001b[38;5;66;03m# Test loading a file\u001b[39;00m\n\u001b[1;32m      7\u001b[0m df \u001b[38;5;241m=\u001b[39m load_csv(\u001b[38;5;124m\"\u001b[39m\u001b[38;5;124mSPY_5min_2020_05.csv\u001b[39m\u001b[38;5;124m\"\u001b[39m)\n",
            "\u001b[0;31mModuleNotFoundError\u001b[0m: No module named 'load_data'"
          ]
        }
      ],
      "execution_count": 5,
      "metadata": {
        "gather": {
          "logged": 1746855541013
        }
      }
    }
  ],
  "metadata": {
    "kernelspec": {
      "name": "python310-sdkv2",
      "language": "python",
      "display_name": "Python 3.10 - SDK v2"
    },
    "language_info": {
      "name": "python",
      "version": "3.10.16",
      "mimetype": "text/x-python",
      "codemirror_mode": {
        "name": "ipython",
        "version": 3
      },
      "pygments_lexer": "ipython3",
      "nbconvert_exporter": "python",
      "file_extension": ".py"
    },
    "microsoft": {
      "ms_spell_check": {
        "ms_spell_check_language": "en"
      },
      "host": {
        "AzureML": {
          "notebookHasBeenCompleted": true
        }
      }
    },
    "kernel_info": {
      "name": "python310-sdkv2"
    },
    "nteract": {
      "version": "nteract-front-end@1.0.0"
    }
  },
  "nbformat": 4,
  "nbformat_minor": 2
}