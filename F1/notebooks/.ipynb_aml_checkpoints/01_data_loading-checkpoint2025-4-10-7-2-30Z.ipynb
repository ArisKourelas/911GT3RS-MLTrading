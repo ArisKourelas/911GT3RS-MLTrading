{
  "cells": [
    {
      "cell_type": "code",
      "source": [
        "import os\n",
        "\n",
        "base = \"SPY_Model\"\n",
        "folders = [\n",
        "    \"data/raw\", \"data/processed\", \"data/features\",\n",
        "    \"notebooks\",\n",
        "    \"models/saved_models\", \"models/ensemble_outputs\",\n",
        "    \"outputs/reports\",\n",
        "    \"utils\"\n",
        "]\n",
        "\n",
        "for folder in folders:\n",
        "    os.makedirs(os.path.join(base, folder), exist_ok=True)\n",
        "\n",
        "print(\"Folder structure rebuilt.\")"
      ],
      "outputs": [
        {
          "output_type": "stream",
          "name": "stdout",
          "text": "Folder structure rebuilt.\n"
        }
      ],
      "execution_count": 2,
      "metadata": {
        "gather": {
          "logged": 1746855459192
        }
      }
    },
    {
      "cell_type": "code",
      "source": [
        "load_data_code = '''\n",
        "import pandas as pd\n",
        "import os\n",
        "\n",
        "def load_csv(filename, subfolder='raw'):\n",
        "    \"\"\"\n",
        "    Load a CSV from the data directory.\n",
        "\n",
        "    Args:\n",
        "        filename (str): Name of the file (e.g., 'spy_data.csv')\n",
        "        subfolder (str): Subdirectory under /data (e.g., 'raw', 'processed')\n",
        "\n",
        "    Returns:\n",
        "        pd.DataFrame: Loaded DataFrame\n",
        "    \"\"\"\n",
        "    path = os.path.join(\"data\", subfolder, filename)\n",
        "    return pd.read_csv(path)\n",
        "'''\n",
        "\n",
        "with open(\"SPY_Model/utils/load_data.py\", \"w\") as f:\n",
        "    f.write(load_data_code)\n",
        "\n",
        "print(\"load_data.py restored.\")"
      ],
      "outputs": [
        {
          "output_type": "stream",
          "name": "stdout",
          "text": "load_data.py restored.\n"
        }
      ],
      "execution_count": 3,
      "metadata": {
        "gather": {
          "logged": 1746855460833
        }
      }
    },
    {
      "cell_type": "code",
      "source": [
        "import os\n",
        "import shutil\n",
        "\n",
        "# Current working directory\n",
        "base_dir = \"SPY_Model\"\n",
        "source_dir = base_dir\n",
        "target_dir = os.path.join(base_dir, \"data\", \"raw\")\n",
        "\n",
        "# Make sure the target exists\n",
        "os.makedirs(target_dir, exist_ok=True)\n",
        "\n",
        "# Move all CSVs that start with 'SPY_5min' to data/raw/\n",
        "for filename in os.listdir(source_dir):\n",
        "    if filename.startswith(\"SPY_5min\") and filename.endswith(\".csv\"):\n",
        "        src = os.path.join(source_dir, filename)\n",
        "        dst = os.path.join(target_dir, filename)\n",
        "        print(f\"Moving {filename} -> data/raw/\")\n",
        "        shutil.move(src, dst)\n",
        "\n",
        "print(\"All files moved successfully.\")"
      ],
      "outputs": [
        {
          "output_type": "stream",
          "name": "stdout",
          "text": "All files moved successfully.\n"
        }
      ],
      "execution_count": 6,
      "metadata": {
        "gather": {
          "logged": 1746856617127
        }
      }
    },
    {
      "cell_type": "code",
      "source": [
        "import os\n",
        "print(os.getcwd())"
      ],
      "outputs": [
        {
          "output_type": "stream",
          "name": "stdout",
          "text": "/mnt/batch/tasks/shared/LS_root/mounts/clusters/arisgkourelas1/code/Users/arisgkourelas/SPY_Model/notebooks\n"
        }
      ],
      "execution_count": 7,
      "metadata": {
        "gather": {
          "logged": 1746856728684
        }
      }
    },
    {
      "cell_type": "code",
      "source": [
        "import os\n",
        "import shutil\n",
        "\n",
        "# Base dir is two levels up from current notebooks folder\n",
        "base_dir = os.path.abspath(os.path.join(os.getcwd(), \"..\"))\n",
        "\n",
        "# Correct paths\n",
        "source_dir = os.path.join(base_dir, \"SPY_Model\")\n",
        "target_dir = os.path.join(base_dir, \"SPY_Model/data/raw\")\n",
        "\n",
        "# Make sure target exists\n",
        "os.makedirs(target_dir, exist_ok=True)\n",
        "\n",
        "# Move all SPY csvs\n",
        "for filename in os.listdir(source_dir):\n",
        "    if filename.startswith(\"SPY_5min\") and filename.endswith(\".csv\"):\n",
        "        src = os.path.join(source_dir, filename)\n",
        "        dst = os.path.join(target_dir, filename)\n",
        "        print(f\"Moving {filename} -> data/raw/\")\n",
        "        shutil.move(src, dst)\n",
        "\n",
        "print(\"All files moved successfully.\")"
      ],
      "outputs": [
        {
          "output_type": "stream",
          "name": "stdout",
          "text": "All files moved successfully.\n"
        }
      ],
      "execution_count": 8,
      "metadata": {
        "gather": {
          "logged": 1746856779108
        }
      }
    },
    {
      "cell_type": "code",
      "source": [
        "import os\n",
        "\n",
        "# Print current working directory\n",
        "print(\"Current notebook directory:\\n\", os.getcwd(), \"\\n\")\n",
        "\n",
        "# Walk from the current notebook’s root\n",
        "for root, dirs, files in os.walk(\".\"):\n",
        "    for name in dirs + files:\n",
        "        print(os.path.join(root, name))"
      ],
      "outputs": [
        {
          "output_type": "stream",
          "name": "stdout",
          "text": "Current notebook directory:\n /mnt/batch/tasks/shared/LS_root/mounts/clusters/arisgkourelas1/code/Users/arisgkourelas/SPY_Model/notebooks \n\n./.ipynb_aml_checkpoints\n./.amlignore\n./.amlignore.amltmp\n./01_data_loading.ipynb\n./01_data_loading.ipynb.amltmp\n./spy_classifier.ipynb\n./.ipynb_aml_checkpoints/01_data_loading-checkpoint2025-4-10-5-45-34Z.ipynb\n./.ipynb_aml_checkpoints/01_data_loading-checkpoint2025-4-10-5-46-23Z.ipynb\n./.ipynb_aml_checkpoints/01_data_loading-checkpoint2025-4-10-5-50-27Z.ipynb\n./.ipynb_aml_checkpoints/01_data_loading-checkpoint2025-4-10-5-6-9Z.ipynb\n./.ipynb_aml_checkpoints/spy_classifier-checkpoint2025-4-3-2-25-15Z.ipynb\n./.ipynb_aml_checkpoints/spy_classifier-checkpoint2025-4-9-10-49-37Z.ipynb\n./.ipynb_aml_checkpoints/spy_classifier-checkpoint2025-4-9-5-48-42Z.ipynb\n./.ipynb_aml_checkpoints/spy_classifier-checkpoint2025-4-9-8-4-40Z.ipynb\n./.ipynb_aml_checkpoints/spy_classifier-checkpoint2025-4-9-9-28-53Z.ipynb\n"
        }
      ],
      "execution_count": 13,
      "metadata": {
        "gather": {
          "logged": 1746857353743
        },
        "jupyter": {
          "outputs_hidden": false
        }
      }
    },
    {
      "cell_type": "code",
      "source": [
        "import os\n",
        "import pandas as pd\n",
        "\n",
        "# Show working directory\n",
        "print(\"\\n--- Current Working Directory ---\")\n",
        "print(os.getcwd())\n",
        "\n",
        "# Walk through current folder and print all subfolders and files\n",
        "print(\"\\n--- Full Folder Tree from Current Directory ---\")\n",
        "for root, dirs, files in os.walk(\".\"):\n",
        "    for name in dirs + files:\n",
        "        print(os.path.join(root, name))\n",
        "\n",
        "# Check key file path manually\n",
        "print(\"\\n--- Checking Key File Existence ---\")\n",
        "csv_path = os.path.join(\"..\", \"data\", \"raw\", \"SPY_5min_2020_05.csv\")\n",
        "print(\"Looking for file at:\", csv_path)\n",
        "print(\"Exists:\", os.path.isfile(csv_path))\n",
        "\n",
        "# Try loading the CSV directly using pandas\n",
        "try:\n",
        "    df = pd.read_csv(csv_path)\n",
        "    print(\"\\n--- CSV File Loaded Successfully ---\")\n",
        "    print(df.head())\n",
        "except Exception as e:\n",
        "    print(\"\\n--- CSV Load Failed ---\")\n",
        "    print(repr(e))"
      ],
      "outputs": [
        {
          "output_type": "stream",
          "name": "stdout",
          "text": "\n--- Current Working Directory ---\n/mnt/batch/tasks/shared/LS_root/mounts/clusters/arisgkourelas1/code/Users/arisgkourelas/SPY_Model/notebooks\n\n--- Full Folder Tree from Current Directory ---\n./.ipynb_aml_checkpoints\n./.amlignore\n./.amlignore.amltmp\n./01_data_loading.ipynb\n./01_data_loading.ipynb.amltmp\n./spy_classifier.ipynb\n./.ipynb_aml_checkpoints/01_data_loading-checkpoint2025-4-10-5-45-34Z.ipynb\n./.ipynb_aml_checkpoints/01_data_loading-checkpoint2025-4-10-5-46-23Z.ipynb\n./.ipynb_aml_checkpoints/01_data_loading-checkpoint2025-4-10-5-50-27Z.ipynb\n./.ipynb_aml_checkpoints/01_data_loading-checkpoint2025-4-10-5-6-9Z.ipynb\n./.ipynb_aml_checkpoints/spy_classifier-checkpoint2025-4-3-2-25-15Z.ipynb\n./.ipynb_aml_checkpoints/spy_classifier-checkpoint2025-4-9-10-49-37Z.ipynb\n./.ipynb_aml_checkpoints/spy_classifier-checkpoint2025-4-9-5-48-42Z.ipynb\n./.ipynb_aml_checkpoints/spy_classifier-checkpoint2025-4-9-8-4-40Z.ipynb\n./.ipynb_aml_checkpoints/spy_classifier-checkpoint2025-4-9-9-28-53Z.ipynb\n\n--- Checking Key File Existence ---\nLooking for file at: ../data/raw/SPY_5min_2020_05.csv\nExists: True\n\n--- CSV File Loaded Successfully ---\n   volume        vw    open   close    high     low            timestamp  \\\n0  4927.0  294.0346  293.83  293.96  294.34  293.83  2020-05-11 08:00:00   \n1  7420.0  293.9817  294.01  293.92  294.04  293.92  2020-05-11 08:05:00   \n2  3675.0  293.8851  293.95  293.60  293.98  293.59  2020-05-11 08:10:00   \n3  6945.0  293.5993  293.60  293.67  293.69  293.57  2020-05-11 08:15:00   \n4  4252.0  293.7026  293.68  293.55  293.76  293.55  2020-05-11 08:20:00   \n\n   trades  \n0      48  \n1      46  \n2      35  \n3      35  \n4      45  \n"
        }
      ],
      "execution_count": 25,
      "metadata": {
        "gather": {
          "logged": 1746858996424
        }
      }
    },
    {
      "cell_type": "code",
      "source": [
        "import os\n",
        "import pandas as pd\n",
        "\n",
        "# Construct the absolute path.\n",
        "abs_path = os.path.abspath(os.path.join(\"..\", \"data\", \"raw\", \"SPY_5min_2020_05.csv\"))\n",
        "print(\"Absolute file path:\", abs_path)\n",
        "\n",
        "# Try loading the CSV directly using the absolute path.\n",
        "try:\n",
        "    df = pd.read_csv(abs_path)\n",
        "    print(\"CSV Loaded Successfully!\")\n",
        "    print(df.head())\n",
        "except Exception as e:\n",
        "    print(\"Error loading CSV:\", repr(e))"
      ],
      "outputs": [
        {
          "output_type": "stream",
          "name": "stdout",
          "text": "Absolute file path: /mnt/batch/tasks/shared/LS_root/mounts/clusters/arisgkourelas1/code/Users/arisgkourelas/SPY_Model/data/raw/SPY_5min_2020_05.csv\nCSV Loaded Successfully!\n   volume        vw    open   close    high     low            timestamp  \\\n0  4927.0  294.0346  293.83  293.96  294.34  293.83  2020-05-11 08:00:00   \n1  7420.0  293.9817  294.01  293.92  294.04  293.92  2020-05-11 08:05:00   \n2  3675.0  293.8851  293.95  293.60  293.98  293.59  2020-05-11 08:10:00   \n3  6945.0  293.5993  293.60  293.67  293.69  293.57  2020-05-11 08:15:00   \n4  4252.0  293.7026  293.68  293.55  293.76  293.55  2020-05-11 08:20:00   \n\n   trades  \n0      48  \n1      46  \n2      35  \n3      35  \n4      45  \n"
        }
      ],
      "execution_count": 31,
      "metadata": {
        "gather": {
          "logged": 1746860427315
        }
      }
    }
  ],
  "metadata": {
    "kernelspec": {
      "name": "python310-sdkv2",
      "language": "python",
      "display_name": "Python 3.10 - SDK v2"
    },
    "language_info": {
      "name": "python",
      "version": "3.10.16",
      "mimetype": "text/x-python",
      "codemirror_mode": {
        "name": "ipython",
        "version": 3
      },
      "pygments_lexer": "ipython3",
      "nbconvert_exporter": "python",
      "file_extension": ".py"
    },
    "microsoft": {
      "ms_spell_check": {
        "ms_spell_check_language": "en"
      },
      "host": {
        "AzureML": {
          "notebookHasBeenCompleted": true
        }
      }
    },
    "kernel_info": {
      "name": "python310-sdkv2"
    },
    "nteract": {
      "version": "nteract-front-end@1.0.0"
    }
  },
  "nbformat": 4,
  "nbformat_minor": 2
}